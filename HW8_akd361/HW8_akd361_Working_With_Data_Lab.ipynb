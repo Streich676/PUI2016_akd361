{
 "cells": [
  {
   "cell_type": "markdown",
   "metadata": {},
   "source": [
    "# 1. Research Question\n",
    "## Which Community Districts in NYC show the highest number of complaints?"
   ]
  },
  {
   "cell_type": "markdown",
   "metadata": {},
   "source": [
    "# 2. Data"
   ]
  },
  {
   "cell_type": "code",
   "execution_count": 92,
   "metadata": {
    "collapsed": false
   },
   "outputs": [
    {
     "name": "stdout",
     "output_type": "stream",
     "text": [
      "Populating the interactive namespace from numpy and matplotlib\n"
     ]
    },
    {
     "name": "stderr",
     "output_type": "stream",
     "text": [
      "/opt/rh/anaconda/root/envs/PUI2016_Python2/lib/python2.7/site-packages/IPython/core/magics/pylab.py:161: UserWarning: pylab import has clobbered these variables: ['inf']\n",
      "`%matplotlib` prevents importing * from pylab and numpy\n",
      "  \"\\n`%matplotlib` prevents importing * from pylab and numpy\"\n"
     ]
    }
   ],
   "source": [
    "import os\n",
    "import pandas as pd\n",
    "import pylab as pl\n",
    "import numpy as np\n",
    "import re\n",
    "import seaborn\n",
    "import statsmodels.api as sm\n",
    "from pandas.tools.plotting import scatter_matrix\n",
    "import matplotlib.pyplot as plt\n",
    "\n",
    "%pylab inline\n",
    "\n",
    "PUIdata = os.getenv('PUIDATA')"
   ]
  },
  {
   "cell_type": "code",
   "execution_count": 2,
   "metadata": {
    "collapsed": false
   },
   "outputs": [
    {
     "name": "stderr",
     "output_type": "stream",
     "text": [
      "/opt/rh/anaconda/root/envs/PUI2016_Python2/lib/python2.7/site-packages/IPython/core/interactiveshell.py:2717: DtypeWarning: Columns (17,40,47) have mixed types. Specify dtype option on import or set low_memory=False.\n",
      "  interactivity=interactivity, compiler=compiler, result=result)\n"
     ]
    }
   ],
   "source": [
    "#get_ipython().system(\"curl -O 'http://urbanprofiler.cloudapp.net/dataset/erm2-nwe9'\")\n",
    "data = pd.read_csv('311_Service_Requests_from_2010_to_Present (2).csv')"
   ]
  },
  {
   "cell_type": "code",
   "execution_count": 3,
   "metadata": {
    "collapsed": false
   },
   "outputs": [
    {
     "data": {
      "text/html": [
       "<div>\n",
       "<table border=\"1\" class=\"dataframe\">\n",
       "  <thead>\n",
       "    <tr style=\"text-align: right;\">\n",
       "      <th></th>\n",
       "      <th>Unique Key</th>\n",
       "      <th>Created Date</th>\n",
       "      <th>Closed Date</th>\n",
       "      <th>Agency</th>\n",
       "      <th>Agency Name</th>\n",
       "      <th>Complaint Type</th>\n",
       "      <th>Descriptor</th>\n",
       "      <th>Location Type</th>\n",
       "      <th>Incident Zip</th>\n",
       "      <th>Incident Address</th>\n",
       "      <th>...</th>\n",
       "      <th>Bridge Highway Name</th>\n",
       "      <th>Bridge Highway Direction</th>\n",
       "      <th>Road Ramp</th>\n",
       "      <th>Bridge Highway Segment</th>\n",
       "      <th>Garage Lot Name</th>\n",
       "      <th>Ferry Direction</th>\n",
       "      <th>Ferry Terminal Name</th>\n",
       "      <th>Latitude</th>\n",
       "      <th>Longitude</th>\n",
       "      <th>Location</th>\n",
       "    </tr>\n",
       "  </thead>\n",
       "  <tbody>\n",
       "    <tr>\n",
       "      <th>0</th>\n",
       "      <td>34212771</td>\n",
       "      <td>09/01/2016 12:00:06 AM</td>\n",
       "      <td>09/01/2016 06:02:10 AM</td>\n",
       "      <td>NYPD</td>\n",
       "      <td>New York City Police Department</td>\n",
       "      <td>Noise - Residential</td>\n",
       "      <td>Loud Television</td>\n",
       "      <td>Residential Building/House</td>\n",
       "      <td>11413.0</td>\n",
       "      <td>137-47 CARSON STREET</td>\n",
       "      <td>...</td>\n",
       "      <td>NaN</td>\n",
       "      <td>NaN</td>\n",
       "      <td>NaN</td>\n",
       "      <td>NaN</td>\n",
       "      <td>NaN</td>\n",
       "      <td>NaN</td>\n",
       "      <td>NaN</td>\n",
       "      <td>40.675208</td>\n",
       "      <td>-73.754949</td>\n",
       "      <td>(40.67520813178531, -73.75494944502233)</td>\n",
       "    </tr>\n",
       "    <tr>\n",
       "      <th>1</th>\n",
       "      <td>34212392</td>\n",
       "      <td>09/01/2016 12:00:35 AM</td>\n",
       "      <td>09/02/2016 04:53:48 PM</td>\n",
       "      <td>NYPD</td>\n",
       "      <td>New York City Police Department</td>\n",
       "      <td>Blocked Driveway</td>\n",
       "      <td>No Access</td>\n",
       "      <td>Street/Sidewalk</td>\n",
       "      <td>10469.0</td>\n",
       "      <td>943 EAST 217 STREET</td>\n",
       "      <td>...</td>\n",
       "      <td>NaN</td>\n",
       "      <td>NaN</td>\n",
       "      <td>NaN</td>\n",
       "      <td>NaN</td>\n",
       "      <td>NaN</td>\n",
       "      <td>NaN</td>\n",
       "      <td>NaN</td>\n",
       "      <td>40.879986</td>\n",
       "      <td>-73.856707</td>\n",
       "      <td>(40.87998640855491, -73.85670741555177)</td>\n",
       "    </tr>\n",
       "    <tr>\n",
       "      <th>2</th>\n",
       "      <td>34214520</td>\n",
       "      <td>09/01/2016 12:00:37 AM</td>\n",
       "      <td>09/01/2016 01:05:43 AM</td>\n",
       "      <td>NYPD</td>\n",
       "      <td>New York City Police Department</td>\n",
       "      <td>Blocked Driveway</td>\n",
       "      <td>No Access</td>\n",
       "      <td>Street/Sidewalk</td>\n",
       "      <td>11369.0</td>\n",
       "      <td>98-02 25 AVENUE</td>\n",
       "      <td>...</td>\n",
       "      <td>NaN</td>\n",
       "      <td>NaN</td>\n",
       "      <td>NaN</td>\n",
       "      <td>NaN</td>\n",
       "      <td>NaN</td>\n",
       "      <td>NaN</td>\n",
       "      <td>NaN</td>\n",
       "      <td>40.764632</td>\n",
       "      <td>-73.871623</td>\n",
       "      <td>(40.76463242381882, -73.87162284918391)</td>\n",
       "    </tr>\n",
       "    <tr>\n",
       "      <th>3</th>\n",
       "      <td>34212483</td>\n",
       "      <td>09/01/2016 12:00:54 AM</td>\n",
       "      <td>09/01/2016 03:15:32 AM</td>\n",
       "      <td>NYPD</td>\n",
       "      <td>New York City Police Department</td>\n",
       "      <td>Blocked Driveway</td>\n",
       "      <td>No Access</td>\n",
       "      <td>Street/Sidewalk</td>\n",
       "      <td>10466.0</td>\n",
       "      <td>1017 EAST 226 STREET</td>\n",
       "      <td>...</td>\n",
       "      <td>NaN</td>\n",
       "      <td>NaN</td>\n",
       "      <td>NaN</td>\n",
       "      <td>NaN</td>\n",
       "      <td>NaN</td>\n",
       "      <td>NaN</td>\n",
       "      <td>NaN</td>\n",
       "      <td>40.885559</td>\n",
       "      <td>-73.850782</td>\n",
       "      <td>(40.885558858976104, -73.85078238918491)</td>\n",
       "    </tr>\n",
       "    <tr>\n",
       "      <th>4</th>\n",
       "      <td>34214231</td>\n",
       "      <td>09/01/2016 12:01:15 AM</td>\n",
       "      <td>09/06/2016 09:27:00 AM</td>\n",
       "      <td>DOT</td>\n",
       "      <td>Department of Transportation</td>\n",
       "      <td>Street Condition</td>\n",
       "      <td>Pothole</td>\n",
       "      <td>NaN</td>\n",
       "      <td>10040.0</td>\n",
       "      <td>4700 BROADWAY</td>\n",
       "      <td>...</td>\n",
       "      <td>NaN</td>\n",
       "      <td>NaN</td>\n",
       "      <td>NaN</td>\n",
       "      <td>NaN</td>\n",
       "      <td>NaN</td>\n",
       "      <td>NaN</td>\n",
       "      <td>NaN</td>\n",
       "      <td>40.864140</td>\n",
       "      <td>-73.929501</td>\n",
       "      <td>(40.864140093130686, -73.92950060219349)</td>\n",
       "    </tr>\n",
       "  </tbody>\n",
       "</table>\n",
       "<p>5 rows × 53 columns</p>\n",
       "</div>"
      ],
      "text/plain": [
       "   Unique Key            Created Date             Closed Date Agency  \\\n",
       "0    34212771  09/01/2016 12:00:06 AM  09/01/2016 06:02:10 AM   NYPD   \n",
       "1    34212392  09/01/2016 12:00:35 AM  09/02/2016 04:53:48 PM   NYPD   \n",
       "2    34214520  09/01/2016 12:00:37 AM  09/01/2016 01:05:43 AM   NYPD   \n",
       "3    34212483  09/01/2016 12:00:54 AM  09/01/2016 03:15:32 AM   NYPD   \n",
       "4    34214231  09/01/2016 12:01:15 AM  09/06/2016 09:27:00 AM    DOT   \n",
       "\n",
       "                       Agency Name       Complaint Type       Descriptor  \\\n",
       "0  New York City Police Department  Noise - Residential  Loud Television   \n",
       "1  New York City Police Department     Blocked Driveway        No Access   \n",
       "2  New York City Police Department     Blocked Driveway        No Access   \n",
       "3  New York City Police Department     Blocked Driveway        No Access   \n",
       "4     Department of Transportation     Street Condition          Pothole   \n",
       "\n",
       "                Location Type  Incident Zip      Incident Address  \\\n",
       "0  Residential Building/House       11413.0  137-47 CARSON STREET   \n",
       "1             Street/Sidewalk       10469.0   943 EAST 217 STREET   \n",
       "2             Street/Sidewalk       11369.0       98-02 25 AVENUE   \n",
       "3             Street/Sidewalk       10466.0  1017 EAST 226 STREET   \n",
       "4                         NaN       10040.0         4700 BROADWAY   \n",
       "\n",
       "                     ...                    Bridge Highway Name  \\\n",
       "0                    ...                                    NaN   \n",
       "1                    ...                                    NaN   \n",
       "2                    ...                                    NaN   \n",
       "3                    ...                                    NaN   \n",
       "4                    ...                                    NaN   \n",
       "\n",
       "  Bridge Highway Direction Road Ramp Bridge Highway Segment Garage Lot Name  \\\n",
       "0                      NaN       NaN                    NaN             NaN   \n",
       "1                      NaN       NaN                    NaN             NaN   \n",
       "2                      NaN       NaN                    NaN             NaN   \n",
       "3                      NaN       NaN                    NaN             NaN   \n",
       "4                      NaN       NaN                    NaN             NaN   \n",
       "\n",
       "  Ferry Direction Ferry Terminal Name   Latitude  Longitude  \\\n",
       "0             NaN                 NaN  40.675208 -73.754949   \n",
       "1             NaN                 NaN  40.879986 -73.856707   \n",
       "2             NaN                 NaN  40.764632 -73.871623   \n",
       "3             NaN                 NaN  40.885559 -73.850782   \n",
       "4             NaN                 NaN  40.864140 -73.929501   \n",
       "\n",
       "                                   Location  \n",
       "0   (40.67520813178531, -73.75494944502233)  \n",
       "1   (40.87998640855491, -73.85670741555177)  \n",
       "2   (40.76463242381882, -73.87162284918391)  \n",
       "3  (40.885558858976104, -73.85078238918491)  \n",
       "4  (40.864140093130686, -73.92950060219349)  \n",
       "\n",
       "[5 rows x 53 columns]"
      ]
     },
     "execution_count": 3,
     "metadata": {},
     "output_type": "execute_result"
    }
   ],
   "source": [
    "data.head()"
   ]
  },
  {
   "cell_type": "code",
   "execution_count": 4,
   "metadata": {
    "collapsed": false
   },
   "outputs": [
    {
     "data": {
      "text/plain": [
       "Index([u'Unique Key', u'Created Date', u'Closed Date', u'Agency',\n",
       "       u'Agency Name', u'Complaint Type', u'Descriptor', u'Location Type',\n",
       "       u'Incident Zip', u'Incident Address', u'Street Name', u'Cross Street 1',\n",
       "       u'Cross Street 2', u'Intersection Street 1', u'Intersection Street 2',\n",
       "       u'Address Type', u'City', u'Landmark', u'Facility Type', u'Status',\n",
       "       u'Due Date', u'Resolution Description',\n",
       "       u'Resolution Action Updated Date', u'Community Board', u'Borough',\n",
       "       u'X Coordinate (State Plane)', u'Y Coordinate (State Plane)',\n",
       "       u'Park Facility Name', u'Park Borough', u'School Name',\n",
       "       u'School Number', u'School Region', u'School Code',\n",
       "       u'School Phone Number', u'School Address', u'School City',\n",
       "       u'School State', u'School Zip', u'School Not Found',\n",
       "       u'School or Citywide Complaint', u'Vehicle Type',\n",
       "       u'Taxi Company Borough', u'Taxi Pick Up Location',\n",
       "       u'Bridge Highway Name', u'Bridge Highway Direction', u'Road Ramp',\n",
       "       u'Bridge Highway Segment', u'Garage Lot Name', u'Ferry Direction',\n",
       "       u'Ferry Terminal Name', u'Latitude', u'Longitude', u'Location'],\n",
       "      dtype='object')"
      ]
     },
     "execution_count": 4,
     "metadata": {},
     "output_type": "execute_result"
    }
   ],
   "source": [
    "data.columns"
   ]
  },
  {
   "cell_type": "code",
   "execution_count": 5,
   "metadata": {
    "collapsed": true
   },
   "outputs": [],
   "source": [
    "data.drop([u'Descriptor', u'Street Name', u'Cross Street 1',\n",
    "       u'Cross Street 2', u'Intersection Street 1', u'Intersection Street 2',\n",
    "       u'Address Type', u'City', u'Landmark', u'Facility Type',\n",
    "       u'Due Date', u'Resolution Description',\n",
    "       u'Resolution Action Updated Date',\n",
    "       u'X Coordinate (State Plane)', u'Y Coordinate (State Plane)',\n",
    "       u'Park Facility Name', u'Park Borough', u'School Name',\n",
    "       u'School Number', u'School Region', u'School Code',\n",
    "       u'School Phone Number', u'School Address', u'School City',\n",
    "       u'School State', u'School Zip', u'School Not Found',\n",
    "       u'School or Citywide Complaint', u'Vehicle Type',\n",
    "       u'Taxi Company Borough', u'Taxi Pick Up Location',\n",
    "       u'Bridge Highway Name', u'Bridge Highway Direction', u'Road Ramp',\n",
    "       u'Bridge Highway Segment', u'Garage Lot Name', u'Ferry Direction',\n",
    "       u'Ferry Terminal Name', u'Latitude', u'Longitude'], axis = 1, inplace = True)"
   ]
  },
  {
   "cell_type": "code",
   "execution_count": 6,
   "metadata": {
    "collapsed": true
   },
   "outputs": [],
   "source": [
    "data.drop([u'Location Type'], axis = 1, inplace = True)"
   ]
  },
  {
   "cell_type": "code",
   "execution_count": 7,
   "metadata": {
    "collapsed": false
   },
   "outputs": [
    {
     "data": {
      "text/html": [
       "<div>\n",
       "<table border=\"1\" class=\"dataframe\">\n",
       "  <thead>\n",
       "    <tr style=\"text-align: right;\">\n",
       "      <th></th>\n",
       "      <th>Unique Key</th>\n",
       "      <th>Created Date</th>\n",
       "      <th>Closed Date</th>\n",
       "      <th>Agency</th>\n",
       "      <th>Agency Name</th>\n",
       "      <th>Complaint Type</th>\n",
       "      <th>Incident Zip</th>\n",
       "      <th>Incident Address</th>\n",
       "      <th>Status</th>\n",
       "      <th>Community Board</th>\n",
       "      <th>Borough</th>\n",
       "      <th>Location</th>\n",
       "    </tr>\n",
       "  </thead>\n",
       "  <tbody>\n",
       "    <tr>\n",
       "      <th>0</th>\n",
       "      <td>34212771</td>\n",
       "      <td>09/01/2016 12:00:06 AM</td>\n",
       "      <td>09/01/2016 06:02:10 AM</td>\n",
       "      <td>NYPD</td>\n",
       "      <td>New York City Police Department</td>\n",
       "      <td>Noise - Residential</td>\n",
       "      <td>11413.0</td>\n",
       "      <td>137-47 CARSON STREET</td>\n",
       "      <td>Closed</td>\n",
       "      <td>13 QUEENS</td>\n",
       "      <td>QUEENS</td>\n",
       "      <td>(40.67520813178531, -73.75494944502233)</td>\n",
       "    </tr>\n",
       "    <tr>\n",
       "      <th>1</th>\n",
       "      <td>34212392</td>\n",
       "      <td>09/01/2016 12:00:35 AM</td>\n",
       "      <td>09/02/2016 04:53:48 PM</td>\n",
       "      <td>NYPD</td>\n",
       "      <td>New York City Police Department</td>\n",
       "      <td>Blocked Driveway</td>\n",
       "      <td>10469.0</td>\n",
       "      <td>943 EAST 217 STREET</td>\n",
       "      <td>Closed</td>\n",
       "      <td>12 BRONX</td>\n",
       "      <td>BRONX</td>\n",
       "      <td>(40.87998640855491, -73.85670741555177)</td>\n",
       "    </tr>\n",
       "    <tr>\n",
       "      <th>2</th>\n",
       "      <td>34214520</td>\n",
       "      <td>09/01/2016 12:00:37 AM</td>\n",
       "      <td>09/01/2016 01:05:43 AM</td>\n",
       "      <td>NYPD</td>\n",
       "      <td>New York City Police Department</td>\n",
       "      <td>Blocked Driveway</td>\n",
       "      <td>11369.0</td>\n",
       "      <td>98-02 25 AVENUE</td>\n",
       "      <td>Closed</td>\n",
       "      <td>03 QUEENS</td>\n",
       "      <td>QUEENS</td>\n",
       "      <td>(40.76463242381882, -73.87162284918391)</td>\n",
       "    </tr>\n",
       "    <tr>\n",
       "      <th>3</th>\n",
       "      <td>34212483</td>\n",
       "      <td>09/01/2016 12:00:54 AM</td>\n",
       "      <td>09/01/2016 03:15:32 AM</td>\n",
       "      <td>NYPD</td>\n",
       "      <td>New York City Police Department</td>\n",
       "      <td>Blocked Driveway</td>\n",
       "      <td>10466.0</td>\n",
       "      <td>1017 EAST 226 STREET</td>\n",
       "      <td>Closed</td>\n",
       "      <td>12 BRONX</td>\n",
       "      <td>BRONX</td>\n",
       "      <td>(40.885558858976104, -73.85078238918491)</td>\n",
       "    </tr>\n",
       "    <tr>\n",
       "      <th>4</th>\n",
       "      <td>34214231</td>\n",
       "      <td>09/01/2016 12:01:15 AM</td>\n",
       "      <td>09/06/2016 09:27:00 AM</td>\n",
       "      <td>DOT</td>\n",
       "      <td>Department of Transportation</td>\n",
       "      <td>Street Condition</td>\n",
       "      <td>10040.0</td>\n",
       "      <td>4700 BROADWAY</td>\n",
       "      <td>Closed</td>\n",
       "      <td>12 MANHATTAN</td>\n",
       "      <td>MANHATTAN</td>\n",
       "      <td>(40.864140093130686, -73.92950060219349)</td>\n",
       "    </tr>\n",
       "  </tbody>\n",
       "</table>\n",
       "</div>"
      ],
      "text/plain": [
       "   Unique Key            Created Date             Closed Date Agency  \\\n",
       "0    34212771  09/01/2016 12:00:06 AM  09/01/2016 06:02:10 AM   NYPD   \n",
       "1    34212392  09/01/2016 12:00:35 AM  09/02/2016 04:53:48 PM   NYPD   \n",
       "2    34214520  09/01/2016 12:00:37 AM  09/01/2016 01:05:43 AM   NYPD   \n",
       "3    34212483  09/01/2016 12:00:54 AM  09/01/2016 03:15:32 AM   NYPD   \n",
       "4    34214231  09/01/2016 12:01:15 AM  09/06/2016 09:27:00 AM    DOT   \n",
       "\n",
       "                       Agency Name       Complaint Type  Incident Zip  \\\n",
       "0  New York City Police Department  Noise - Residential       11413.0   \n",
       "1  New York City Police Department     Blocked Driveway       10469.0   \n",
       "2  New York City Police Department     Blocked Driveway       11369.0   \n",
       "3  New York City Police Department     Blocked Driveway       10466.0   \n",
       "4     Department of Transportation     Street Condition       10040.0   \n",
       "\n",
       "       Incident Address  Status Community Board    Borough  \\\n",
       "0  137-47 CARSON STREET  Closed       13 QUEENS     QUEENS   \n",
       "1   943 EAST 217 STREET  Closed        12 BRONX      BRONX   \n",
       "2       98-02 25 AVENUE  Closed       03 QUEENS     QUEENS   \n",
       "3  1017 EAST 226 STREET  Closed        12 BRONX      BRONX   \n",
       "4         4700 BROADWAY  Closed    12 MANHATTAN  MANHATTAN   \n",
       "\n",
       "                                   Location  \n",
       "0   (40.67520813178531, -73.75494944502233)  \n",
       "1   (40.87998640855491, -73.85670741555177)  \n",
       "2   (40.76463242381882, -73.87162284918391)  \n",
       "3  (40.885558858976104, -73.85078238918491)  \n",
       "4  (40.864140093130686, -73.92950060219349)  "
      ]
     },
     "execution_count": 7,
     "metadata": {},
     "output_type": "execute_result"
    }
   ],
   "source": [
    "data.head()"
   ]
  },
  {
   "cell_type": "markdown",
   "metadata": {},
   "source": [
    "# 3. Measurement Errors"
   ]
  },
  {
   "cell_type": "code",
   "execution_count": 8,
   "metadata": {
    "collapsed": false
   },
   "outputs": [
    {
     "data": {
      "text/plain": [
       "74"
      ]
     },
     "execution_count": 8,
     "metadata": {},
     "output_type": "execute_result"
    }
   ],
   "source": [
    "# this is wrong because there are actually 59\n",
    "len(data['Community Board'].unique())"
   ]
  },
  {
   "cell_type": "code",
   "execution_count": 9,
   "metadata": {
    "collapsed": false
   },
   "outputs": [
    {
     "data": {
      "text/plain": [
       "6"
      ]
     },
     "execution_count": 9,
     "metadata": {},
     "output_type": "execute_result"
    }
   ],
   "source": [
    "#obviously wrong because there are 5 boroughs\n",
    "len(data['Borough'].unique())"
   ]
  },
  {
   "cell_type": "code",
   "execution_count": 10,
   "metadata": {
    "collapsed": false
   },
   "outputs": [
    {
     "name": "stdout",
     "output_type": "stream",
     "text": [
      "['QUEENS' 'BRONX' 'MANHATTAN' 'BROOKLYN' 'Unspecified' 'STATEN ISLAND']\n"
     ]
    }
   ],
   "source": [
    "print (data['Borough'].unique())"
   ]
  },
  {
   "cell_type": "markdown",
   "metadata": {},
   "source": [
    "## looking into duplicates"
   ]
  },
  {
   "cell_type": "code",
   "execution_count": 11,
   "metadata": {
    "collapsed": false
   },
   "outputs": [
    {
     "data": {
      "text/plain": [
       "34897"
      ]
     },
     "execution_count": 11,
     "metadata": {},
     "output_type": "execute_result"
    }
   ],
   "source": [
    "len(data)"
   ]
  },
  {
   "cell_type": "code",
   "execution_count": 12,
   "metadata": {
    "collapsed": false
   },
   "outputs": [
    {
     "data": {
      "text/plain": [
       "34897"
      ]
     },
     "execution_count": 12,
     "metadata": {},
     "output_type": "execute_result"
    }
   ],
   "source": [
    "len(data['Unique Key'].unique())"
   ]
  },
  {
   "cell_type": "markdown",
   "metadata": {},
   "source": [
    "### the two above are the same, so we don't have duplicate Unique Keys"
   ]
  },
  {
   "cell_type": "code",
   "execution_count": 13,
   "metadata": {
    "collapsed": false
   },
   "outputs": [
    {
     "data": {
      "text/plain": [
       "21121"
      ]
     },
     "execution_count": 13,
     "metadata": {},
     "output_type": "execute_result"
    }
   ],
   "source": [
    "# Looking at duplicaton of locations. This doesn't mean a single problem is being reported multiple times,\n",
    "# but it is interesting to see there are multiple complaints at some locations.\n",
    "# Looking at create date and time would probably be a better way to look for duplicates.\n",
    "len(data['Location'].unique())"
   ]
  },
  {
   "cell_type": "code",
   "execution_count": 14,
   "metadata": {
    "collapsed": false
   },
   "outputs": [
    {
     "name": "stdout",
     "output_type": "stream",
     "text": [
      "0               13 QUEENS\n",
      "1                12 BRONX\n",
      "2               03 QUEENS\n",
      "3                12 BRONX\n",
      "4            12 MANHATTAN\n",
      "5            09 MANHATTAN\n",
      "6               08 QUEENS\n",
      "7               01 QUEENS\n",
      "8                07 BRONX\n",
      "9             01 BROOKLYN\n",
      "10            01 BROOKLYN\n",
      "11           03 MANHATTAN\n",
      "12           09 MANHATTAN\n",
      "13              08 QUEENS\n",
      "14           03 MANHATTAN\n",
      "15              09 QUEENS\n",
      "16               05 BRONX\n",
      "17            03 BROOKLYN\n",
      "18           07 MANHATTAN\n",
      "19            12 BROOKLYN\n",
      "20              08 QUEENS\n",
      "21              09 QUEENS\n",
      "22          0 Unspecified\n",
      "23            09 BROOKLYN\n",
      "24              03 QUEENS\n",
      "25              08 QUEENS\n",
      "26              07 QUEENS\n",
      "27          0 Unspecified\n",
      "28              01 QUEENS\n",
      "29              01 QUEENS\n",
      "               ...       \n",
      "34867            11 BRONX\n",
      "34868       0 Unspecified\n",
      "34869           07 QUEENS\n",
      "34870    01 STATEN ISLAND\n",
      "34871         18 BROOKLYN\n",
      "34872       0 Unspecified\n",
      "34873    02 STATEN ISLAND\n",
      "34874    03 STATEN ISLAND\n",
      "34875        12 MANHATTAN\n",
      "34876         04 BROOKLYN\n",
      "34877         15 BROOKLYN\n",
      "34878         18 BROOKLYN\n",
      "34879         14 BROOKLYN\n",
      "34880        10 MANHATTAN\n",
      "34881            12 BRONX\n",
      "34882        11 MANHATTAN\n",
      "34883           01 QUEENS\n",
      "34884            11 BRONX\n",
      "34885            11 BRONX\n",
      "34886         07 BROOKLYN\n",
      "34887        02 MANHATTAN\n",
      "34888         11 BROOKLYN\n",
      "34889        12 MANHATTAN\n",
      "34890         01 BROOKLYN\n",
      "34891         01 BROOKLYN\n",
      "34892         03 BROOKLYN\n",
      "34893        02 MANHATTAN\n",
      "34894           02 QUEENS\n",
      "34895    03 STATEN ISLAND\n",
      "34896        12 MANHATTAN\n",
      "Name: Community Board, dtype: object\n"
     ]
    }
   ],
   "source": [
    "print (data['Community Board'])"
   ]
  },
  {
   "cell_type": "code",
   "execution_count": 15,
   "metadata": {
    "collapsed": false
   },
   "outputs": [
    {
     "data": {
      "text/plain": [
       "Unique Key              0\n",
       "Created Date            0\n",
       "Closed Date         12779\n",
       "Agency                  0\n",
       "Agency Name             0\n",
       "Complaint Type          0\n",
       "Incident Zip         1852\n",
       "Incident Address     7174\n",
       "Status                  0\n",
       "Community Board         0\n",
       "Borough                 0\n",
       "Location             3026\n",
       "dtype: int64"
      ]
     },
     "execution_count": 15,
     "metadata": {},
     "output_type": "execute_result"
    }
   ],
   "source": [
    "data.isnull().sum()"
   ]
  },
  {
   "cell_type": "markdown",
   "metadata": {
    "collapsed": true
   },
   "source": [
    "There's some missing data in a few columns.\n",
    "Makes sense that closed date would be missing because some haven't been closed."
   ]
  },
  {
   "cell_type": "code",
   "execution_count": 16,
   "metadata": {
    "collapsed": false
   },
   "outputs": [
    {
     "data": {
      "text/html": [
       "<div>\n",
       "<table border=\"1\" class=\"dataframe\">\n",
       "  <thead>\n",
       "    <tr style=\"text-align: right;\">\n",
       "      <th></th>\n",
       "      <th>Unique Key</th>\n",
       "      <th>Created Date</th>\n",
       "      <th>Closed Date</th>\n",
       "      <th>Agency</th>\n",
       "      <th>Agency Name</th>\n",
       "      <th>Complaint Type</th>\n",
       "      <th>Incident Zip</th>\n",
       "      <th>Incident Address</th>\n",
       "      <th>Status</th>\n",
       "      <th>Community Board</th>\n",
       "      <th>Borough</th>\n",
       "      <th>Location</th>\n",
       "    </tr>\n",
       "  </thead>\n",
       "  <tbody>\n",
       "    <tr>\n",
       "      <th>22</th>\n",
       "      <td>34217276</td>\n",
       "      <td>09/01/2016 12:08:16 AM</td>\n",
       "      <td>NaN</td>\n",
       "      <td>ACS</td>\n",
       "      <td>ACS</td>\n",
       "      <td>Forms</td>\n",
       "      <td>NaN</td>\n",
       "      <td>NaN</td>\n",
       "      <td>Email Sent</td>\n",
       "      <td>0 Unspecified</td>\n",
       "      <td>Unspecified</td>\n",
       "      <td>NaN</td>\n",
       "    </tr>\n",
       "    <tr>\n",
       "      <th>27</th>\n",
       "      <td>34212140</td>\n",
       "      <td>09/01/2016 12:09:18 AM</td>\n",
       "      <td>NaN</td>\n",
       "      <td>ACS</td>\n",
       "      <td>ACS</td>\n",
       "      <td>Forms</td>\n",
       "      <td>NaN</td>\n",
       "      <td>NaN</td>\n",
       "      <td>Email Sent</td>\n",
       "      <td>0 Unspecified</td>\n",
       "      <td>Unspecified</td>\n",
       "      <td>NaN</td>\n",
       "    </tr>\n",
       "    <tr>\n",
       "      <th>53</th>\n",
       "      <td>34216324</td>\n",
       "      <td>09/01/2016 12:18:28 AM</td>\n",
       "      <td>NaN</td>\n",
       "      <td>ACS</td>\n",
       "      <td>ACS</td>\n",
       "      <td>Forms</td>\n",
       "      <td>NaN</td>\n",
       "      <td>NaN</td>\n",
       "      <td>Email Sent</td>\n",
       "      <td>0 Unspecified</td>\n",
       "      <td>Unspecified</td>\n",
       "      <td>NaN</td>\n",
       "    </tr>\n",
       "    <tr>\n",
       "      <th>76</th>\n",
       "      <td>34217470</td>\n",
       "      <td>09/01/2016 12:29:13 AM</td>\n",
       "      <td>NaN</td>\n",
       "      <td>3-1-1</td>\n",
       "      <td>311 Executive Office - EC</td>\n",
       "      <td>Agency Issues</td>\n",
       "      <td>NaN</td>\n",
       "      <td>NaN</td>\n",
       "      <td>Open</td>\n",
       "      <td>0 Unspecified</td>\n",
       "      <td>Unspecified</td>\n",
       "      <td>NaN</td>\n",
       "    </tr>\n",
       "    <tr>\n",
       "      <th>78</th>\n",
       "      <td>34216795</td>\n",
       "      <td>09/01/2016 12:30:55 AM</td>\n",
       "      <td>09/01/2016 12:31:35 AM</td>\n",
       "      <td>HRA</td>\n",
       "      <td>HRA Benefit Card Replacement</td>\n",
       "      <td>Benefit Card Replacement</td>\n",
       "      <td>NaN</td>\n",
       "      <td>NaN</td>\n",
       "      <td>Closed</td>\n",
       "      <td>0 Unspecified</td>\n",
       "      <td>Unspecified</td>\n",
       "      <td>NaN</td>\n",
       "    </tr>\n",
       "  </tbody>\n",
       "</table>\n",
       "</div>"
      ],
      "text/plain": [
       "    Unique Key            Created Date             Closed Date Agency  \\\n",
       "22    34217276  09/01/2016 12:08:16 AM                     NaN    ACS   \n",
       "27    34212140  09/01/2016 12:09:18 AM                     NaN    ACS   \n",
       "53    34216324  09/01/2016 12:18:28 AM                     NaN    ACS   \n",
       "76    34217470  09/01/2016 12:29:13 AM                     NaN  3-1-1   \n",
       "78    34216795  09/01/2016 12:30:55 AM  09/01/2016 12:31:35 AM    HRA   \n",
       "\n",
       "                     Agency Name            Complaint Type  Incident Zip  \\\n",
       "22                           ACS                     Forms           NaN   \n",
       "27                           ACS                     Forms           NaN   \n",
       "53                           ACS                     Forms           NaN   \n",
       "76     311 Executive Office - EC             Agency Issues           NaN   \n",
       "78  HRA Benefit Card Replacement  Benefit Card Replacement           NaN   \n",
       "\n",
       "   Incident Address      Status Community Board      Borough Location  \n",
       "22              NaN  Email Sent   0 Unspecified  Unspecified      NaN  \n",
       "27              NaN  Email Sent   0 Unspecified  Unspecified      NaN  \n",
       "53              NaN  Email Sent   0 Unspecified  Unspecified      NaN  \n",
       "76              NaN        Open   0 Unspecified  Unspecified      NaN  \n",
       "78              NaN      Closed   0 Unspecified  Unspecified      NaN  "
      ]
     },
     "execution_count": 16,
     "metadata": {},
     "output_type": "execute_result"
    }
   ],
   "source": [
    "dataUnspecified = data[data['Community Board'] == '0 Unspecified']\n",
    "dataUnspecified.head()"
   ]
  },
  {
   "cell_type": "code",
   "execution_count": 17,
   "metadata": {
    "collapsed": false
   },
   "outputs": [
    {
     "data": {
      "text/plain": [
       "1147"
      ]
     },
     "execution_count": 17,
     "metadata": {},
     "output_type": "execute_result"
    }
   ],
   "source": [
    "len(dataUnspecified)"
   ]
  },
  {
   "cell_type": "code",
   "execution_count": 18,
   "metadata": {
    "collapsed": false
   },
   "outputs": [],
   "source": [
    "# Since we need to analyze based on Community Board and/or Borough, we can remove rows where this is unspecified.\n",
    "# I didn't do the marker method exactly, but got to the same place.\n",
    "data = data[data['Community Board'] != 'Unspecified MANHATTAN']\n",
    "data = data[data['Community Board'] != 'Unspecified QUEENS']\n",
    "data = data[data['Community Board'] != 'Unspecified BROOKLYN']\n",
    "data = data[data['Community Board'] != 'Unspecified BRONX']\n",
    "data = data[data['Community Board'] != 'Unspecified STATEN ISLAND']\n",
    "data = data[data['Community Board'] != '0 Unspecified']"
   ]
  },
  {
   "cell_type": "code",
   "execution_count": 19,
   "metadata": {
    "collapsed": false
   },
   "outputs": [
    {
     "data": {
      "text/plain": [
       "68"
      ]
     },
     "execution_count": 19,
     "metadata": {},
     "output_type": "execute_result"
    }
   ],
   "source": [
    "len(data['Community Board'].unique())"
   ]
  },
  {
   "cell_type": "code",
   "execution_count": 40,
   "metadata": {
    "collapsed": false
   },
   "outputs": [
    {
     "data": {
      "text/html": [
       "<div>\n",
       "<table border=\"1\" class=\"dataframe\">\n",
       "  <thead>\n",
       "    <tr style=\"text-align: right;\">\n",
       "      <th></th>\n",
       "      <th>311 Calls</th>\n",
       "      <th>Community Board</th>\n",
       "    </tr>\n",
       "    <tr>\n",
       "      <th>Community Board</th>\n",
       "      <th></th>\n",
       "      <th></th>\n",
       "    </tr>\n",
       "  </thead>\n",
       "  <tbody>\n",
       "    <tr>\n",
       "      <th>01 BRONX</th>\n",
       "      <td>280</td>\n",
       "      <td>01 BRONX</td>\n",
       "    </tr>\n",
       "    <tr>\n",
       "      <th>01 BROOKLYN</th>\n",
       "      <td>791</td>\n",
       "      <td>01 BROOKLYN</td>\n",
       "    </tr>\n",
       "    <tr>\n",
       "      <th>01 MANHATTAN</th>\n",
       "      <td>353</td>\n",
       "      <td>01 MANHATTAN</td>\n",
       "    </tr>\n",
       "    <tr>\n",
       "      <th>01 QUEENS</th>\n",
       "      <td>687</td>\n",
       "      <td>01 QUEENS</td>\n",
       "    </tr>\n",
       "    <tr>\n",
       "      <th>01 STATEN ISLAND</th>\n",
       "      <td>659</td>\n",
       "      <td>01 STATEN ISLAND</td>\n",
       "    </tr>\n",
       "    <tr>\n",
       "      <th>02 BRONX</th>\n",
       "      <td>219</td>\n",
       "      <td>02 BRONX</td>\n",
       "    </tr>\n",
       "    <tr>\n",
       "      <th>02 BROOKLYN</th>\n",
       "      <td>551</td>\n",
       "      <td>02 BROOKLYN</td>\n",
       "    </tr>\n",
       "    <tr>\n",
       "      <th>02 MANHATTAN</th>\n",
       "      <td>393</td>\n",
       "      <td>02 MANHATTAN</td>\n",
       "    </tr>\n",
       "    <tr>\n",
       "      <th>02 QUEENS</th>\n",
       "      <td>377</td>\n",
       "      <td>02 QUEENS</td>\n",
       "    </tr>\n",
       "    <tr>\n",
       "      <th>02 STATEN ISLAND</th>\n",
       "      <td>433</td>\n",
       "      <td>02 STATEN ISLAND</td>\n",
       "    </tr>\n",
       "  </tbody>\n",
       "</table>\n",
       "</div>"
      ],
      "text/plain": [
       "                  311 Calls   Community Board\n",
       "Community Board                              \n",
       "01 BRONX                280          01 BRONX\n",
       "01 BROOKLYN             791       01 BROOKLYN\n",
       "01 MANHATTAN            353      01 MANHATTAN\n",
       "01 QUEENS               687         01 QUEENS\n",
       "01 STATEN ISLAND        659  01 STATEN ISLAND\n",
       "02 BRONX                219          02 BRONX\n",
       "02 BROOKLYN             551       02 BROOKLYN\n",
       "02 MANHATTAN            393      02 MANHATTAN\n",
       "02 QUEENS               377         02 QUEENS\n",
       "02 STATEN ISLAND        433  02 STATEN ISLAND"
      ]
     },
     "execution_count": 40,
     "metadata": {},
     "output_type": "execute_result"
    }
   ],
   "source": [
    "# counting the complaints per community board\n",
    "board1 = data.groupby('Community Board')\n",
    "board = pd.DataFrame(board1['Community Board'].apply(np.size))\n",
    "board.rename(columns = {'Community Board':'311 Calls'}, inplace = True)\n",
    "board['Community Board'] = board.index \n",
    "board.head(10)"
   ]
  },
  {
   "cell_type": "markdown",
   "metadata": {
    "collapsed": true
   },
   "source": [
    "# 4. Interpretation of Results"
   ]
  },
  {
   "cell_type": "code",
   "execution_count": 21,
   "metadata": {
    "collapsed": false
   },
   "outputs": [
    {
     "data": {
      "text/html": [
       "<div>\n",
       "<table border=\"1\" class=\"dataframe\">\n",
       "  <thead>\n",
       "    <tr style=\"text-align: right;\">\n",
       "      <th></th>\n",
       "      <th>FIPS</th>\n",
       "      <th>cd_id</th>\n",
       "      <th>Total Population</th>\n",
       "      <th>Population Density (per sq. mile)</th>\n",
       "      <th>% Total Population: Male</th>\n",
       "      <th>% Total Population: 18 to 24 Years</th>\n",
       "      <th>% Total Population: 25 to 34 Years</th>\n",
       "      <th>% Total Population: 35 to 44 Years</th>\n",
       "      <th>% Population 5 Years And Over: Speak Only English</th>\n",
       "      <th>% Population 5 Years And Over: Spanish or Spanish Creole</th>\n",
       "      <th>...</th>\n",
       "      <th>Employed Civilian Population 16 Years And Over: Production, transportation, and material moving  occupations: Production occupations</th>\n",
       "      <th>Employed Civilian Population 16 Years And Over: Production, transportation, and material moving  occupations: Transportation and material moving occupations</th>\n",
       "      <th>% Employed Civilian Population 16 Years And Over: Management, professional, and related occupations</th>\n",
       "      <th>% Employed Civilian Population 16 Years And Over: Service occupations</th>\n",
       "      <th>% Employed Civilian Population 16 Years And Over: Sales and office occupations</th>\n",
       "      <th>% Employed Civilian Population 16 Years And Over: Farming, fishing, and forestry occupations</th>\n",
       "      <th>% Employed Civilian Population 16 Years And Over: Construction, extraction, and maintenance  occupations</th>\n",
       "      <th>% Employed Civilian Population 16 Years And Over: Production, transportation, and material moving  occupations</th>\n",
       "      <th>% Employed Civilian Population 16 Years And Over: Production, transportation, and material moving  occupations: Production occupations</th>\n",
       "      <th>% Employed Civilian Population 16 Years And Over: Production, transportation, and material moving  occupations: Transportation and material moving occupations</th>\n",
       "    </tr>\n",
       "  </thead>\n",
       "  <tbody>\n",
       "    <tr>\n",
       "      <th>0</th>\n",
       "      <td>3603701</td>\n",
       "      <td>BX08</td>\n",
       "      <td>106737</td>\n",
       "      <td>31229.95006</td>\n",
       "      <td>46.65</td>\n",
       "      <td>10.73</td>\n",
       "      <td>15.04</td>\n",
       "      <td>11.32</td>\n",
       "      <td>46.80</td>\n",
       "      <td>39.24</td>\n",
       "      <td>...</td>\n",
       "      <td>665</td>\n",
       "      <td>1518</td>\n",
       "      <td>42.66</td>\n",
       "      <td>28.95</td>\n",
       "      <td>20.89</td>\n",
       "      <td>0.24</td>\n",
       "      <td>2.65</td>\n",
       "      <td>4.60</td>\n",
       "      <td>1.40</td>\n",
       "      <td>3.20</td>\n",
       "    </tr>\n",
       "    <tr>\n",
       "      <th>1</th>\n",
       "      <td>3603702</td>\n",
       "      <td>BX12</td>\n",
       "      <td>134644</td>\n",
       "      <td>19966.67839</td>\n",
       "      <td>46.35</td>\n",
       "      <td>11.35</td>\n",
       "      <td>14.29</td>\n",
       "      <td>12.57</td>\n",
       "      <td>73.09</td>\n",
       "      <td>18.19</td>\n",
       "      <td>...</td>\n",
       "      <td>1156</td>\n",
       "      <td>4174</td>\n",
       "      <td>29.57</td>\n",
       "      <td>33.98</td>\n",
       "      <td>20.40</td>\n",
       "      <td>0.00</td>\n",
       "      <td>7.08</td>\n",
       "      <td>8.97</td>\n",
       "      <td>1.95</td>\n",
       "      <td>7.02</td>\n",
       "    </tr>\n",
       "    <tr>\n",
       "      <th>2</th>\n",
       "      <td>3603703</td>\n",
       "      <td>BX10</td>\n",
       "      <td>121209</td>\n",
       "      <td>12913.81703</td>\n",
       "      <td>45.20</td>\n",
       "      <td>8.62</td>\n",
       "      <td>13.74</td>\n",
       "      <td>12.78</td>\n",
       "      <td>61.79</td>\n",
       "      <td>26.43</td>\n",
       "      <td>...</td>\n",
       "      <td>941</td>\n",
       "      <td>3433</td>\n",
       "      <td>36.20</td>\n",
       "      <td>22.85</td>\n",
       "      <td>25.09</td>\n",
       "      <td>0.00</td>\n",
       "      <td>7.68</td>\n",
       "      <td>8.18</td>\n",
       "      <td>1.76</td>\n",
       "      <td>6.42</td>\n",
       "    </tr>\n",
       "    <tr>\n",
       "      <th>3</th>\n",
       "      <td>3603704</td>\n",
       "      <td>BX11</td>\n",
       "      <td>135839</td>\n",
       "      <td>35677.95453</td>\n",
       "      <td>50.09</td>\n",
       "      <td>8.10</td>\n",
       "      <td>17.43</td>\n",
       "      <td>14.09</td>\n",
       "      <td>43.22</td>\n",
       "      <td>36.45</td>\n",
       "      <td>...</td>\n",
       "      <td>2189</td>\n",
       "      <td>5592</td>\n",
       "      <td>30.06</td>\n",
       "      <td>27.86</td>\n",
       "      <td>22.24</td>\n",
       "      <td>0.00</td>\n",
       "      <td>7.03</td>\n",
       "      <td>12.81</td>\n",
       "      <td>3.60</td>\n",
       "      <td>9.20</td>\n",
       "    </tr>\n",
       "    <tr>\n",
       "      <th>4</th>\n",
       "      <td>3603705</td>\n",
       "      <td>BX03</td>\n",
       "      <td>172247</td>\n",
       "      <td>39405.79222</td>\n",
       "      <td>44.72</td>\n",
       "      <td>14.24</td>\n",
       "      <td>14.89</td>\n",
       "      <td>12.38</td>\n",
       "      <td>36.82</td>\n",
       "      <td>54.24</td>\n",
       "      <td>...</td>\n",
       "      <td>1437</td>\n",
       "      <td>5436</td>\n",
       "      <td>16.80</td>\n",
       "      <td>41.00</td>\n",
       "      <td>22.29</td>\n",
       "      <td>0.03</td>\n",
       "      <td>8.45</td>\n",
       "      <td>11.43</td>\n",
       "      <td>2.39</td>\n",
       "      <td>9.04</td>\n",
       "    </tr>\n",
       "  </tbody>\n",
       "</table>\n",
       "<p>5 rows × 158 columns</p>\n",
       "</div>"
      ],
      "text/plain": [
       "      FIPS cd_id  Total Population  Population Density (per sq. mile)  \\\n",
       "0  3603701  BX08            106737                        31229.95006   \n",
       "1  3603702  BX12            134644                        19966.67839   \n",
       "2  3603703  BX10            121209                        12913.81703   \n",
       "3  3603704  BX11            135839                        35677.95453   \n",
       "4  3603705  BX03            172247                        39405.79222   \n",
       "\n",
       "   % Total Population: Male  % Total Population: 18 to 24 Years  \\\n",
       "0                     46.65                               10.73   \n",
       "1                     46.35                               11.35   \n",
       "2                     45.20                                8.62   \n",
       "3                     50.09                                8.10   \n",
       "4                     44.72                               14.24   \n",
       "\n",
       "   % Total Population: 25 to 34 Years  % Total Population: 35 to 44 Years  \\\n",
       "0                               15.04                               11.32   \n",
       "1                               14.29                               12.57   \n",
       "2                               13.74                               12.78   \n",
       "3                               17.43                               14.09   \n",
       "4                               14.89                               12.38   \n",
       "\n",
       "   % Population 5 Years And Over: Speak Only English  \\\n",
       "0                                              46.80   \n",
       "1                                              73.09   \n",
       "2                                              61.79   \n",
       "3                                              43.22   \n",
       "4                                              36.82   \n",
       "\n",
       "   % Population 5 Years And Over: Spanish or Spanish Creole  \\\n",
       "0                                              39.24          \n",
       "1                                              18.19          \n",
       "2                                              26.43          \n",
       "3                                              36.45          \n",
       "4                                              54.24          \n",
       "\n",
       "                                                                                ...                                                                                \\\n",
       "0                                                                               ...                                                                                 \n",
       "1                                                                               ...                                                                                 \n",
       "2                                                                               ...                                                                                 \n",
       "3                                                                               ...                                                                                 \n",
       "4                                                                               ...                                                                                 \n",
       "\n",
       "   Employed Civilian Population 16 Years And Over: Production, transportation, and material moving  occupations: Production occupations  \\\n",
       "0                                                665                                                                                      \n",
       "1                                               1156                                                                                      \n",
       "2                                                941                                                                                      \n",
       "3                                               2189                                                                                      \n",
       "4                                               1437                                                                                      \n",
       "\n",
       "   Employed Civilian Population 16 Years And Over: Production, transportation, and material moving  occupations: Transportation and material moving occupations  \\\n",
       "0                                               1518                                                                                                              \n",
       "1                                               4174                                                                                                              \n",
       "2                                               3433                                                                                                              \n",
       "3                                               5592                                                                                                              \n",
       "4                                               5436                                                                                                              \n",
       "\n",
       "   % Employed Civilian Population 16 Years And Over: Management, professional, and related occupations  \\\n",
       "0                                              42.66                                                     \n",
       "1                                              29.57                                                     \n",
       "2                                              36.20                                                     \n",
       "3                                              30.06                                                     \n",
       "4                                              16.80                                                     \n",
       "\n",
       "   % Employed Civilian Population 16 Years And Over: Service occupations  \\\n",
       "0                                              28.95                       \n",
       "1                                              33.98                       \n",
       "2                                              22.85                       \n",
       "3                                              27.86                       \n",
       "4                                              41.00                       \n",
       "\n",
       "   % Employed Civilian Population 16 Years And Over: Sales and office occupations  \\\n",
       "0                                              20.89                                \n",
       "1                                              20.40                                \n",
       "2                                              25.09                                \n",
       "3                                              22.24                                \n",
       "4                                              22.29                                \n",
       "\n",
       "   % Employed Civilian Population 16 Years And Over: Farming, fishing, and forestry occupations  \\\n",
       "0                                               0.24                                              \n",
       "1                                               0.00                                              \n",
       "2                                               0.00                                              \n",
       "3                                               0.00                                              \n",
       "4                                               0.03                                              \n",
       "\n",
       "   % Employed Civilian Population 16 Years And Over: Construction, extraction, and maintenance  occupations  \\\n",
       "0                                               2.65                                                          \n",
       "1                                               7.08                                                          \n",
       "2                                               7.68                                                          \n",
       "3                                               7.03                                                          \n",
       "4                                               8.45                                                          \n",
       "\n",
       "   % Employed Civilian Population 16 Years And Over: Production, transportation, and material moving  occupations  \\\n",
       "0                                               4.60                                                                \n",
       "1                                               8.97                                                                \n",
       "2                                               8.18                                                                \n",
       "3                                              12.81                                                                \n",
       "4                                              11.43                                                                \n",
       "\n",
       "   % Employed Civilian Population 16 Years And Over: Production, transportation, and material moving  occupations: Production occupations  \\\n",
       "0                                               1.40                                                                                        \n",
       "1                                               1.95                                                                                        \n",
       "2                                               1.76                                                                                        \n",
       "3                                               3.60                                                                                        \n",
       "4                                               2.39                                                                                        \n",
       "\n",
       "   % Employed Civilian Population 16 Years And Over: Production, transportation, and material moving  occupations: Transportation and material moving occupations  \n",
       "0                                               3.20                                                                                                               \n",
       "1                                               7.02                                                                                                               \n",
       "2                                               6.42                                                                                                               \n",
       "3                                               9.20                                                                                                               \n",
       "4                                               9.04                                                                                                               \n",
       "\n",
       "[5 rows x 158 columns]"
      ]
     },
     "execution_count": 21,
     "metadata": {},
     "output_type": "execute_result"
    }
   ],
   "source": [
    "# importing demographic data\n",
    "pop = pd.read_csv(\"http://cosmo.nyu.edu/~fb55/PUI2016/data//Final_Demographics.csv\")\n",
    "pop.head()"
   ]
  },
  {
   "cell_type": "code",
   "execution_count": 22,
   "metadata": {
    "collapsed": false
   },
   "outputs": [
    {
     "data": {
      "text/plain": [
       "59"
      ]
     },
     "execution_count": 22,
     "metadata": {},
     "output_type": "execute_result"
    }
   ],
   "source": [
    "# number of community districts is correct\n",
    "len(pop['cd_id'].unique())"
   ]
  },
  {
   "cell_type": "code",
   "execution_count": 23,
   "metadata": {
    "collapsed": false
   },
   "outputs": [
    {
     "data": {
      "text/html": [
       "<div>\n",
       "<table border=\"1\" class=\"dataframe\">\n",
       "  <thead>\n",
       "    <tr style=\"text-align: right;\">\n",
       "      <th></th>\n",
       "      <th>cd_id</th>\n",
       "      <th>median_house_income</th>\n",
       "    </tr>\n",
       "  </thead>\n",
       "  <tbody>\n",
       "    <tr>\n",
       "      <th>0</th>\n",
       "      <td>BX08</td>\n",
       "      <td>54224</td>\n",
       "    </tr>\n",
       "    <tr>\n",
       "      <th>1</th>\n",
       "      <td>BX12</td>\n",
       "      <td>44906</td>\n",
       "    </tr>\n",
       "    <tr>\n",
       "      <th>2</th>\n",
       "      <td>BX10</td>\n",
       "      <td>54962</td>\n",
       "    </tr>\n",
       "    <tr>\n",
       "      <th>3</th>\n",
       "      <td>BX11</td>\n",
       "      <td>47910</td>\n",
       "    </tr>\n",
       "    <tr>\n",
       "      <th>4</th>\n",
       "      <td>BX03</td>\n",
       "      <td>22041</td>\n",
       "    </tr>\n",
       "  </tbody>\n",
       "</table>\n",
       "</div>"
      ],
      "text/plain": [
       "  cd_id  median_house_income\n",
       "0  BX08                54224\n",
       "1  BX12                44906\n",
       "2  BX10                54962\n",
       "3  BX11                47910\n",
       "4  BX03                22041"
      ]
     },
     "execution_count": 23,
     "metadata": {},
     "output_type": "execute_result"
    }
   ],
   "source": [
    "# pulling out the median income, which would be interesting to compare with number of 311 calls per district\n",
    "income = pop[['cd_id', 'Median household income (In 2014 Inflation Adjusted Dollars)']]\n",
    "income.columns = ['cd_id', 'median_house_income']\n",
    "income.head()"
   ]
  },
  {
   "cell_type": "code",
   "execution_count": 24,
   "metadata": {
    "collapsed": false
   },
   "outputs": [
    {
     "data": {
      "text/html": [
       "<div>\n",
       "<table border=\"1\" class=\"dataframe\">\n",
       "  <thead>\n",
       "    <tr style=\"text-align: right;\">\n",
       "      <th></th>\n",
       "      <th>FIPS</th>\n",
       "      <th>Geographic Identifier</th>\n",
       "      <th>Qualifying Name</th>\n",
       "      <th>Households</th>\n",
       "      <th>Households: With An Internet Subscription</th>\n",
       "      <th>Households: Dial-Up Alone</th>\n",
       "      <th>Households: Dsl</th>\n",
       "      <th>Households: With Mobile Broadband</th>\n",
       "      <th>Households: Without Mobile Broadband</th>\n",
       "      <th>Households: Cable Modem</th>\n",
       "      <th>...</th>\n",
       "      <th>Households: Mobile Broadband Alone or With Dialup</th>\n",
       "      <th>Households: Internet Access Without A Subscription</th>\n",
       "      <th>Households: No Internet Access</th>\n",
       "      <th>% Households: With An Internet Subscription</th>\n",
       "      <th>Households.1</th>\n",
       "      <th>Households: Has A Computer</th>\n",
       "      <th>Households: With Dial-Up Internet Subscription Alone</th>\n",
       "      <th>Households: With A Broadband Internet Subscription</th>\n",
       "      <th>Households: Without An Internet Subscription</th>\n",
       "      <th>Households: No Computer</th>\n",
       "    </tr>\n",
       "  </thead>\n",
       "  <tbody>\n",
       "    <tr>\n",
       "      <th>0</th>\n",
       "      <td>3603701</td>\n",
       "      <td>79500US3603701</td>\n",
       "      <td>NYC-Bronx Community District 8--Riverdale, New...</td>\n",
       "      <td>42035</td>\n",
       "      <td>31795</td>\n",
       "      <td>444</td>\n",
       "      <td>2813</td>\n",
       "      <td>946</td>\n",
       "      <td>1867</td>\n",
       "      <td>19178</td>\n",
       "      <td>...</td>\n",
       "      <td>2168</td>\n",
       "      <td>2119</td>\n",
       "      <td>8121</td>\n",
       "      <td>75.64</td>\n",
       "      <td>42035</td>\n",
       "      <td>35048</td>\n",
       "      <td>404</td>\n",
       "      <td>30943</td>\n",
       "      <td>3701</td>\n",
       "      <td>6987</td>\n",
       "    </tr>\n",
       "    <tr>\n",
       "      <th>1</th>\n",
       "      <td>3603702</td>\n",
       "      <td>79500US3603702</td>\n",
       "      <td>NYC-Bronx Community District 12--Wakefield, Ne...</td>\n",
       "      <td>44830</td>\n",
       "      <td>32243</td>\n",
       "      <td>178</td>\n",
       "      <td>849</td>\n",
       "      <td>405</td>\n",
       "      <td>444</td>\n",
       "      <td>18653</td>\n",
       "      <td>...</td>\n",
       "      <td>928</td>\n",
       "      <td>1891</td>\n",
       "      <td>10696</td>\n",
       "      <td>71.92</td>\n",
       "      <td>44830</td>\n",
       "      <td>36700</td>\n",
       "      <td>178</td>\n",
       "      <td>31435</td>\n",
       "      <td>5087</td>\n",
       "      <td>8130</td>\n",
       "    </tr>\n",
       "    <tr>\n",
       "      <th>2</th>\n",
       "      <td>3603703</td>\n",
       "      <td>79500US3603703</td>\n",
       "      <td>NYC-Bronx Community District 10--Co-op City, N...</td>\n",
       "      <td>47050</td>\n",
       "      <td>32729</td>\n",
       "      <td>158</td>\n",
       "      <td>1863</td>\n",
       "      <td>398</td>\n",
       "      <td>1465</td>\n",
       "      <td>20044</td>\n",
       "      <td>...</td>\n",
       "      <td>639</td>\n",
       "      <td>2882</td>\n",
       "      <td>11439</td>\n",
       "      <td>69.56</td>\n",
       "      <td>47050</td>\n",
       "      <td>38700</td>\n",
       "      <td>158</td>\n",
       "      <td>32333</td>\n",
       "      <td>6209</td>\n",
       "      <td>8350</td>\n",
       "    </tr>\n",
       "    <tr>\n",
       "      <th>3</th>\n",
       "      <td>3603704</td>\n",
       "      <td>79500US3603704</td>\n",
       "      <td>NYC-Bronx Community District 11--Pelham Parkwa...</td>\n",
       "      <td>44922</td>\n",
       "      <td>32003</td>\n",
       "      <td>141</td>\n",
       "      <td>1478</td>\n",
       "      <td>474</td>\n",
       "      <td>1004</td>\n",
       "      <td>17917</td>\n",
       "      <td>...</td>\n",
       "      <td>1001</td>\n",
       "      <td>2722</td>\n",
       "      <td>10197</td>\n",
       "      <td>71.24</td>\n",
       "      <td>44922</td>\n",
       "      <td>37237</td>\n",
       "      <td>122</td>\n",
       "      <td>31278</td>\n",
       "      <td>5837</td>\n",
       "      <td>7685</td>\n",
       "    </tr>\n",
       "    <tr>\n",
       "      <th>4</th>\n",
       "      <td>3603705</td>\n",
       "      <td>79500US3603705</td>\n",
       "      <td>NYC-Bronx Community District 3 &amp; 6--Belmont, N...</td>\n",
       "      <td>57556</td>\n",
       "      <td>35503</td>\n",
       "      <td>88</td>\n",
       "      <td>1297</td>\n",
       "      <td>651</td>\n",
       "      <td>646</td>\n",
       "      <td>15847</td>\n",
       "      <td>...</td>\n",
       "      <td>1385</td>\n",
       "      <td>3312</td>\n",
       "      <td>18741</td>\n",
       "      <td>61.68</td>\n",
       "      <td>57556</td>\n",
       "      <td>42576</td>\n",
       "      <td>88</td>\n",
       "      <td>33408</td>\n",
       "      <td>9080</td>\n",
       "      <td>14980</td>\n",
       "    </tr>\n",
       "  </tbody>\n",
       "</table>\n",
       "<p>5 rows × 31 columns</p>\n",
       "</div>"
      ],
      "text/plain": [
       "      FIPS Geographic Identifier  \\\n",
       "0  3603701        79500US3603701   \n",
       "1  3603702        79500US3603702   \n",
       "2  3603703        79500US3603703   \n",
       "3  3603704        79500US3603704   \n",
       "4  3603705        79500US3603705   \n",
       "\n",
       "                                     Qualifying Name  Households  \\\n",
       "0  NYC-Bronx Community District 8--Riverdale, New...       42035   \n",
       "1  NYC-Bronx Community District 12--Wakefield, Ne...       44830   \n",
       "2  NYC-Bronx Community District 10--Co-op City, N...       47050   \n",
       "3  NYC-Bronx Community District 11--Pelham Parkwa...       44922   \n",
       "4  NYC-Bronx Community District 3 & 6--Belmont, N...       57556   \n",
       "\n",
       "   Households: With An Internet Subscription  Households: Dial-Up Alone  \\\n",
       "0                                      31795                        444   \n",
       "1                                      32243                        178   \n",
       "2                                      32729                        158   \n",
       "3                                      32003                        141   \n",
       "4                                      35503                         88   \n",
       "\n",
       "   Households: Dsl  Households: With Mobile Broadband  \\\n",
       "0             2813                                946   \n",
       "1              849                                405   \n",
       "2             1863                                398   \n",
       "3             1478                                474   \n",
       "4             1297                                651   \n",
       "\n",
       "   Households: Without Mobile Broadband  Households: Cable Modem  \\\n",
       "0                                  1867                    19178   \n",
       "1                                   444                    18653   \n",
       "2                                  1465                    20044   \n",
       "3                                  1004                    17917   \n",
       "4                                   646                    15847   \n",
       "\n",
       "            ...             Households: Mobile Broadband Alone or With Dialup  \\\n",
       "0           ...                                                          2168   \n",
       "1           ...                                                           928   \n",
       "2           ...                                                           639   \n",
       "3           ...                                                          1001   \n",
       "4           ...                                                          1385   \n",
       "\n",
       "   Households: Internet Access Without A Subscription  \\\n",
       "0                                               2119    \n",
       "1                                               1891    \n",
       "2                                               2882    \n",
       "3                                               2722    \n",
       "4                                               3312    \n",
       "\n",
       "   Households: No Internet Access  \\\n",
       "0                            8121   \n",
       "1                           10696   \n",
       "2                           11439   \n",
       "3                           10197   \n",
       "4                           18741   \n",
       "\n",
       "   % Households: With An Internet Subscription  Households.1  \\\n",
       "0                                        75.64         42035   \n",
       "1                                        71.92         44830   \n",
       "2                                        69.56         47050   \n",
       "3                                        71.24         44922   \n",
       "4                                        61.68         57556   \n",
       "\n",
       "   Households: Has A Computer  \\\n",
       "0                       35048   \n",
       "1                       36700   \n",
       "2                       38700   \n",
       "3                       37237   \n",
       "4                       42576   \n",
       "\n",
       "   Households: With Dial-Up Internet Subscription Alone  \\\n",
       "0                                                404      \n",
       "1                                                178      \n",
       "2                                                158      \n",
       "3                                                122      \n",
       "4                                                 88      \n",
       "\n",
       "   Households: With A Broadband Internet Subscription  \\\n",
       "0                                              30943    \n",
       "1                                              31435    \n",
       "2                                              32333    \n",
       "3                                              31278    \n",
       "4                                              33408    \n",
       "\n",
       "   Households: Without An Internet Subscription  Households: No Computer  \n",
       "0                                          3701                     6987  \n",
       "1                                          5087                     8130  \n",
       "2                                          6209                     8350  \n",
       "3                                          5837                     7685  \n",
       "4                                          9080                    14980  \n",
       "\n",
       "[5 rows x 31 columns]"
      ]
     },
     "execution_count": 24,
     "metadata": {},
     "output_type": "execute_result"
    }
   ],
   "source": [
    "# infrastructure by community district\n",
    "inf = pd.read_csv(\"http://cosmo.nyu.edu/~fb55/PUI2016/data//ACS_Computer_Use_and_Internet_2014_1Year_Estimate.csv\")\n",
    "inf.head()"
   ]
  },
  {
   "cell_type": "code",
   "execution_count": 25,
   "metadata": {
    "collapsed": false
   },
   "outputs": [
    {
     "data": {
      "text/plain": [
       "55"
      ]
     },
     "execution_count": 25,
     "metadata": {},
     "output_type": "execute_result"
    }
   ],
   "source": [
    "# hmm we're missing four districts\n",
    "len(inf['Qualifying Name'].unique())"
   ]
  },
  {
   "cell_type": "code",
   "execution_count": 26,
   "metadata": {
    "collapsed": false
   },
   "outputs": [
    {
     "data": {
      "text/html": [
       "<div>\n",
       "<table border=\"1\" class=\"dataframe\">\n",
       "  <thead>\n",
       "    <tr style=\"text-align: right;\">\n",
       "      <th></th>\n",
       "      <th>FIPS</th>\n",
       "      <th>Geographic Identifier</th>\n",
       "      <th>Qualifying Name</th>\n",
       "      <th>Households</th>\n",
       "      <th>Households: With An Internet Subscription</th>\n",
       "      <th>Households: Dial-Up Alone</th>\n",
       "      <th>Households: Dsl</th>\n",
       "      <th>Households: With Mobile Broadband</th>\n",
       "      <th>Households: Without Mobile Broadband</th>\n",
       "      <th>Households: Cable Modem</th>\n",
       "      <th>...</th>\n",
       "      <th>Households: Internet Access Without A Subscription</th>\n",
       "      <th>Households: No Internet Access</th>\n",
       "      <th>% Households: With An Internet Subscription</th>\n",
       "      <th>Households.1</th>\n",
       "      <th>Households: Has A Computer</th>\n",
       "      <th>Households: With Dial-Up Internet Subscription Alone</th>\n",
       "      <th>Households: With A Broadband Internet Subscription</th>\n",
       "      <th>Households: Without An Internet Subscription</th>\n",
       "      <th>Households: No Computer</th>\n",
       "      <th>Internet Access</th>\n",
       "    </tr>\n",
       "  </thead>\n",
       "  <tbody>\n",
       "    <tr>\n",
       "      <th>0</th>\n",
       "      <td>3603701</td>\n",
       "      <td>79500US3603701</td>\n",
       "      <td>NYC-Bronx Community District 8--Riverdale, New...</td>\n",
       "      <td>42035</td>\n",
       "      <td>31795</td>\n",
       "      <td>444</td>\n",
       "      <td>2813</td>\n",
       "      <td>946</td>\n",
       "      <td>1867</td>\n",
       "      <td>19178</td>\n",
       "      <td>...</td>\n",
       "      <td>2119</td>\n",
       "      <td>8121</td>\n",
       "      <td>75.64</td>\n",
       "      <td>42035</td>\n",
       "      <td>35048</td>\n",
       "      <td>404</td>\n",
       "      <td>30943</td>\n",
       "      <td>3701</td>\n",
       "      <td>6987</td>\n",
       "      <td>0.640585</td>\n",
       "    </tr>\n",
       "    <tr>\n",
       "      <th>1</th>\n",
       "      <td>3603702</td>\n",
       "      <td>79500US3603702</td>\n",
       "      <td>NYC-Bronx Community District 12--Wakefield, Ne...</td>\n",
       "      <td>44830</td>\n",
       "      <td>32243</td>\n",
       "      <td>178</td>\n",
       "      <td>849</td>\n",
       "      <td>405</td>\n",
       "      <td>444</td>\n",
       "      <td>18653</td>\n",
       "      <td>...</td>\n",
       "      <td>1891</td>\n",
       "      <td>10696</td>\n",
       "      <td>71.92</td>\n",
       "      <td>44830</td>\n",
       "      <td>36700</td>\n",
       "      <td>178</td>\n",
       "      <td>31435</td>\n",
       "      <td>5087</td>\n",
       "      <td>8130</td>\n",
       "      <td>0.580058</td>\n",
       "    </tr>\n",
       "    <tr>\n",
       "      <th>2</th>\n",
       "      <td>3603703</td>\n",
       "      <td>79500US3603703</td>\n",
       "      <td>NYC-Bronx Community District 10--Co-op City, N...</td>\n",
       "      <td>47050</td>\n",
       "      <td>32729</td>\n",
       "      <td>158</td>\n",
       "      <td>1863</td>\n",
       "      <td>398</td>\n",
       "      <td>1465</td>\n",
       "      <td>20044</td>\n",
       "      <td>...</td>\n",
       "      <td>2882</td>\n",
       "      <td>11439</td>\n",
       "      <td>69.56</td>\n",
       "      <td>47050</td>\n",
       "      <td>38700</td>\n",
       "      <td>158</td>\n",
       "      <td>32333</td>\n",
       "      <td>6209</td>\n",
       "      <td>8350</td>\n",
       "      <td>0.579405</td>\n",
       "    </tr>\n",
       "    <tr>\n",
       "      <th>3</th>\n",
       "      <td>3603704</td>\n",
       "      <td>79500US3603704</td>\n",
       "      <td>NYC-Bronx Community District 11--Pelham Parkwa...</td>\n",
       "      <td>44922</td>\n",
       "      <td>32003</td>\n",
       "      <td>141</td>\n",
       "      <td>1478</td>\n",
       "      <td>474</td>\n",
       "      <td>1004</td>\n",
       "      <td>17917</td>\n",
       "      <td>...</td>\n",
       "      <td>2722</td>\n",
       "      <td>10197</td>\n",
       "      <td>71.24</td>\n",
       "      <td>44922</td>\n",
       "      <td>37237</td>\n",
       "      <td>122</td>\n",
       "      <td>31278</td>\n",
       "      <td>5837</td>\n",
       "      <td>7685</td>\n",
       "      <td>0.601932</td>\n",
       "    </tr>\n",
       "    <tr>\n",
       "      <th>4</th>\n",
       "      <td>3603705</td>\n",
       "      <td>79500US3603705</td>\n",
       "      <td>NYC-Bronx Community District 3 &amp; 6--Belmont, N...</td>\n",
       "      <td>57556</td>\n",
       "      <td>35503</td>\n",
       "      <td>88</td>\n",
       "      <td>1297</td>\n",
       "      <td>651</td>\n",
       "      <td>646</td>\n",
       "      <td>15847</td>\n",
       "      <td>...</td>\n",
       "      <td>3312</td>\n",
       "      <td>18741</td>\n",
       "      <td>61.68</td>\n",
       "      <td>57556</td>\n",
       "      <td>42576</td>\n",
       "      <td>88</td>\n",
       "      <td>33408</td>\n",
       "      <td>9080</td>\n",
       "      <td>14980</td>\n",
       "      <td>0.414118</td>\n",
       "    </tr>\n",
       "  </tbody>\n",
       "</table>\n",
       "<p>5 rows × 32 columns</p>\n",
       "</div>"
      ],
      "text/plain": [
       "      FIPS Geographic Identifier  \\\n",
       "0  3603701        79500US3603701   \n",
       "1  3603702        79500US3603702   \n",
       "2  3603703        79500US3603703   \n",
       "3  3603704        79500US3603704   \n",
       "4  3603705        79500US3603705   \n",
       "\n",
       "                                     Qualifying Name  Households  \\\n",
       "0  NYC-Bronx Community District 8--Riverdale, New...       42035   \n",
       "1  NYC-Bronx Community District 12--Wakefield, Ne...       44830   \n",
       "2  NYC-Bronx Community District 10--Co-op City, N...       47050   \n",
       "3  NYC-Bronx Community District 11--Pelham Parkwa...       44922   \n",
       "4  NYC-Bronx Community District 3 & 6--Belmont, N...       57556   \n",
       "\n",
       "   Households: With An Internet Subscription  Households: Dial-Up Alone  \\\n",
       "0                                      31795                        444   \n",
       "1                                      32243                        178   \n",
       "2                                      32729                        158   \n",
       "3                                      32003                        141   \n",
       "4                                      35503                         88   \n",
       "\n",
       "   Households: Dsl  Households: With Mobile Broadband  \\\n",
       "0             2813                                946   \n",
       "1              849                                405   \n",
       "2             1863                                398   \n",
       "3             1478                                474   \n",
       "4             1297                                651   \n",
       "\n",
       "   Households: Without Mobile Broadband  Households: Cable Modem  \\\n",
       "0                                  1867                    19178   \n",
       "1                                   444                    18653   \n",
       "2                                  1465                    20044   \n",
       "3                                  1004                    17917   \n",
       "4                                   646                    15847   \n",
       "\n",
       "        ...         Households: Internet Access Without A Subscription  \\\n",
       "0       ...                                                      2119    \n",
       "1       ...                                                      1891    \n",
       "2       ...                                                      2882    \n",
       "3       ...                                                      2722    \n",
       "4       ...                                                      3312    \n",
       "\n",
       "   Households: No Internet Access  \\\n",
       "0                            8121   \n",
       "1                           10696   \n",
       "2                           11439   \n",
       "3                           10197   \n",
       "4                           18741   \n",
       "\n",
       "   % Households: With An Internet Subscription  Households.1  \\\n",
       "0                                        75.64         42035   \n",
       "1                                        71.92         44830   \n",
       "2                                        69.56         47050   \n",
       "3                                        71.24         44922   \n",
       "4                                        61.68         57556   \n",
       "\n",
       "   Households: Has A Computer  \\\n",
       "0                       35048   \n",
       "1                       36700   \n",
       "2                       38700   \n",
       "3                       37237   \n",
       "4                       42576   \n",
       "\n",
       "   Households: With Dial-Up Internet Subscription Alone  \\\n",
       "0                                                404      \n",
       "1                                                178      \n",
       "2                                                158      \n",
       "3                                                122      \n",
       "4                                                 88      \n",
       "\n",
       "   Households: With A Broadband Internet Subscription  \\\n",
       "0                                              30943    \n",
       "1                                              31435    \n",
       "2                                              32333    \n",
       "3                                              31278    \n",
       "4                                              33408    \n",
       "\n",
       "   Households: Without An Internet Subscription  Households: No Computer  \\\n",
       "0                                          3701                     6987   \n",
       "1                                          5087                     8130   \n",
       "2                                          6209                     8350   \n",
       "3                                          5837                     7685   \n",
       "4                                          9080                    14980   \n",
       "\n",
       "   Internet Access  \n",
       "0         0.640585  \n",
       "1         0.580058  \n",
       "2         0.579405  \n",
       "3         0.601932  \n",
       "4         0.414118  \n",
       "\n",
       "[5 rows x 32 columns]"
      ]
     },
     "execution_count": 26,
     "metadata": {},
     "output_type": "execute_result"
    }
   ],
   "source": [
    "# Combined houses with no computer and no internet to calculate the total lacking internet access.\n",
    "# Then took the remainder as a percentage of total households.\n",
    "inf['Internet Access'] = 1 - (inf['Households: No Computer'] + inf['Households: No Internet Access']) / inf['Households']\n",
    "inf.head()"
   ]
  },
  {
   "cell_type": "code",
   "execution_count": 27,
   "metadata": {
    "collapsed": false
   },
   "outputs": [
    {
     "data": {
      "text/html": [
       "<div>\n",
       "<table border=\"1\" class=\"dataframe\">\n",
       "  <thead>\n",
       "    <tr style=\"text-align: right;\">\n",
       "      <th></th>\n",
       "      <th>Community Name</th>\n",
       "      <th>low internet</th>\n",
       "      <th>high internet</th>\n",
       "    </tr>\n",
       "  </thead>\n",
       "  <tbody>\n",
       "    <tr>\n",
       "      <th>0</th>\n",
       "      <td>NYC-Bronx Community District 8--Riverdale, New...</td>\n",
       "      <td>404</td>\n",
       "      <td>30943</td>\n",
       "    </tr>\n",
       "    <tr>\n",
       "      <th>1</th>\n",
       "      <td>NYC-Bronx Community District 12--Wakefield, Ne...</td>\n",
       "      <td>178</td>\n",
       "      <td>31435</td>\n",
       "    </tr>\n",
       "    <tr>\n",
       "      <th>2</th>\n",
       "      <td>NYC-Bronx Community District 10--Co-op City, N...</td>\n",
       "      <td>158</td>\n",
       "      <td>32333</td>\n",
       "    </tr>\n",
       "    <tr>\n",
       "      <th>3</th>\n",
       "      <td>NYC-Bronx Community District 11--Pelham Parkwa...</td>\n",
       "      <td>122</td>\n",
       "      <td>31278</td>\n",
       "    </tr>\n",
       "    <tr>\n",
       "      <th>4</th>\n",
       "      <td>NYC-Bronx Community District 3 &amp; 6--Belmont, N...</td>\n",
       "      <td>88</td>\n",
       "      <td>33408</td>\n",
       "    </tr>\n",
       "  </tbody>\n",
       "</table>\n",
       "</div>"
      ],
      "text/plain": [
       "                                      Community Name  low internet  \\\n",
       "0  NYC-Bronx Community District 8--Riverdale, New...           404   \n",
       "1  NYC-Bronx Community District 12--Wakefield, Ne...           178   \n",
       "2  NYC-Bronx Community District 10--Co-op City, N...           158   \n",
       "3  NYC-Bronx Community District 11--Pelham Parkwa...           122   \n",
       "4  NYC-Bronx Community District 3 & 6--Belmont, N...            88   \n",
       "\n",
       "   high internet  \n",
       "0          30943  \n",
       "1          31435  \n",
       "2          32333  \n",
       "3          31278  \n",
       "4          33408  "
      ]
     },
     "execution_count": 27,
     "metadata": {},
     "output_type": "execute_result"
    }
   ],
   "source": [
    "high_low = inf[['Qualifying Name', 'Households: With Dial-Up Internet Subscription Alone', \n",
    "                              'Households: With A Broadband Internet Subscription']]\n",
    "high_low.columns = ['Community Name', 'low internet', 'high internet']\n",
    "high_low.head()"
   ]
  },
  {
   "cell_type": "markdown",
   "metadata": {},
   "source": [
    "# 5. Linking Datasets"
   ]
  },
  {
   "cell_type": "markdown",
   "metadata": {},
   "source": [
    "harmonizing data set 1"
   ]
  },
  {
   "cell_type": "code",
   "execution_count": 41,
   "metadata": {
    "collapsed": false
   },
   "outputs": [
    {
     "data": {
      "text/plain": [
       "array(['01 BRONX', '01 BROOKLYN', '01 MANHATTAN', '01 QUEENS',\n",
       "       '01 STATEN ISLAND', '02 BRONX', '02 BROOKLYN', '02 MANHATTAN',\n",
       "       '02 QUEENS', '02 STATEN ISLAND', '03 BRONX', '03 BROOKLYN',\n",
       "       '03 MANHATTAN', '03 QUEENS', '03 STATEN ISLAND', '04 BRONX',\n",
       "       '04 BROOKLYN', '04 MANHATTAN', '04 QUEENS', '05 BRONX',\n",
       "       '05 BROOKLYN', '05 MANHATTAN', '05 QUEENS', '06 BRONX',\n",
       "       '06 BROOKLYN', '06 MANHATTAN', '06 QUEENS', '07 BRONX',\n",
       "       '07 BROOKLYN', '07 MANHATTAN', '07 QUEENS', '08 BRONX',\n",
       "       '08 BROOKLYN', '08 MANHATTAN', '08 QUEENS', '09 BRONX',\n",
       "       '09 BROOKLYN', '09 MANHATTAN', '09 QUEENS', '10 BRONX',\n",
       "       '10 BROOKLYN', '10 MANHATTAN', '10 QUEENS', '11 BRONX',\n",
       "       '11 BROOKLYN', '11 MANHATTAN', '11 QUEENS', '12 BRONX',\n",
       "       '12 BROOKLYN', '12 MANHATTAN', '12 QUEENS', '13 BROOKLYN',\n",
       "       '13 QUEENS', '14 BROOKLYN', '14 QUEENS', '15 BROOKLYN',\n",
       "       '16 BROOKLYN', '17 BROOKLYN', '18 BROOKLYN', '26 BRONX', '27 BRONX',\n",
       "       '55 BROOKLYN', '64 MANHATTAN', '80 QUEENS', '81 QUEENS',\n",
       "       '82 QUEENS', '83 QUEENS', '95 STATEN ISLAND'], dtype=object)"
      ]
     },
     "execution_count": 41,
     "metadata": {},
     "output_type": "execute_result"
    }
   ],
   "source": [
    "board['Community Board'].unique()"
   ]
  },
  {
   "cell_type": "code",
   "execution_count": 42,
   "metadata": {
    "collapsed": false
   },
   "outputs": [
    {
     "data": {
      "text/html": [
       "<div>\n",
       "<table border=\"1\" class=\"dataframe\">\n",
       "  <thead>\n",
       "    <tr style=\"text-align: right;\">\n",
       "      <th></th>\n",
       "      <th>num_complaints</th>\n",
       "      <th>cd_id</th>\n",
       "    </tr>\n",
       "    <tr>\n",
       "      <th>Community Board</th>\n",
       "      <th></th>\n",
       "      <th></th>\n",
       "    </tr>\n",
       "  </thead>\n",
       "  <tbody>\n",
       "    <tr>\n",
       "      <th>01 BRONX</th>\n",
       "      <td>280</td>\n",
       "      <td>BX01</td>\n",
       "    </tr>\n",
       "    <tr>\n",
       "      <th>01 BROOKLYN</th>\n",
       "      <td>791</td>\n",
       "      <td>BK01</td>\n",
       "    </tr>\n",
       "    <tr>\n",
       "      <th>01 MANHATTAN</th>\n",
       "      <td>353</td>\n",
       "      <td>MN01</td>\n",
       "    </tr>\n",
       "    <tr>\n",
       "      <th>01 QUEENS</th>\n",
       "      <td>687</td>\n",
       "      <td>QN01</td>\n",
       "    </tr>\n",
       "    <tr>\n",
       "      <th>01 STATEN ISLAND</th>\n",
       "      <td>659</td>\n",
       "      <td>SI01</td>\n",
       "    </tr>\n",
       "  </tbody>\n",
       "</table>\n",
       "</div>"
      ],
      "text/plain": [
       "                  num_complaints cd_id\n",
       "Community Board                       \n",
       "01 BRONX                     280  BX01\n",
       "01 BROOKLYN                  791  BK01\n",
       "01 MANHATTAN                 353  MN01\n",
       "01 QUEENS                    687  QN01\n",
       "01 STATEN ISLAND             659  SI01"
      ]
     },
     "execution_count": 42,
     "metadata": {},
     "output_type": "execute_result"
    }
   ],
   "source": [
    "# borrowed this method from Danny Fay\n",
    "board['cd_num'] = board['Community Board'].str[:2]\n",
    "board['cd_boro'] = board['Community Board'].str[3:]\n",
    "cd_id = {'BRONX': 'BX', 'BROOKLYN': 'BK', 'MANHATTAN': 'MN', 'QUEENS': 'QN', 'STATEN ISLAND': 'SI'}\n",
    "board.replace({'cd_boro': cd_id}, inplace=True)\n",
    "board['cd_id'] = board.cd_boro + board.cd_num\n",
    "board.drop(['Community Board', 'cd_num', 'cd_boro'], axis=1, inplace=True)\n",
    "board.columns = ['num_complaints', 'cd_id']\n",
    "board.head()"
   ]
  },
  {
   "cell_type": "markdown",
   "metadata": {},
   "source": [
    "need to fix the index"
   ]
  },
  {
   "cell_type": "code",
   "execution_count": 43,
   "metadata": {
    "collapsed": false
   },
   "outputs": [
    {
     "data": {
      "text/plain": [
       "68"
      ]
     },
     "execution_count": 43,
     "metadata": {},
     "output_type": "execute_result"
    }
   ],
   "source": [
    "len(board)"
   ]
  },
  {
   "cell_type": "code",
   "execution_count": 51,
   "metadata": {
    "collapsed": false
   },
   "outputs": [
    {
     "name": "stdout",
     "output_type": "stream",
     "text": [
      "[ 0  1  2  3  4  5  6  7  8  9 10 11 12 13 14 15 16 17 18 19 20 21 22 23 24\n",
      " 25 26 27 28 29 30 31 32 33 34 35 36 37 38 39 40 41 42 43 44 45 46 47 48 49\n",
      " 50 51 52 53 54 55 56 57 58 59 60 61 62 63 64 65 66 67]\n"
     ]
    }
   ],
   "source": [
    "indeks = np.arange(68)\n",
    "print(indeks)"
   ]
  },
  {
   "cell_type": "code",
   "execution_count": 56,
   "metadata": {
    "collapsed": false
   },
   "outputs": [],
   "source": [
    "board.set_index(indeks, inplace=True)"
   ]
  },
  {
   "cell_type": "code",
   "execution_count": 57,
   "metadata": {
    "collapsed": false
   },
   "outputs": [
    {
     "data": {
      "text/html": [
       "<div>\n",
       "<table border=\"1\" class=\"dataframe\">\n",
       "  <thead>\n",
       "    <tr style=\"text-align: right;\">\n",
       "      <th></th>\n",
       "      <th>num_complaints</th>\n",
       "      <th>cd_id</th>\n",
       "    </tr>\n",
       "  </thead>\n",
       "  <tbody>\n",
       "    <tr>\n",
       "      <th>0</th>\n",
       "      <td>280</td>\n",
       "      <td>BX01</td>\n",
       "    </tr>\n",
       "    <tr>\n",
       "      <th>1</th>\n",
       "      <td>791</td>\n",
       "      <td>BK01</td>\n",
       "    </tr>\n",
       "    <tr>\n",
       "      <th>2</th>\n",
       "      <td>353</td>\n",
       "      <td>MN01</td>\n",
       "    </tr>\n",
       "    <tr>\n",
       "      <th>3</th>\n",
       "      <td>687</td>\n",
       "      <td>QN01</td>\n",
       "    </tr>\n",
       "    <tr>\n",
       "      <th>4</th>\n",
       "      <td>659</td>\n",
       "      <td>SI01</td>\n",
       "    </tr>\n",
       "  </tbody>\n",
       "</table>\n",
       "</div>"
      ],
      "text/plain": [
       "   num_complaints cd_id\n",
       "0             280  BX01\n",
       "1             791  BK01\n",
       "2             353  MN01\n",
       "3             687  QN01\n",
       "4             659  SI01"
      ]
     },
     "execution_count": 57,
     "metadata": {},
     "output_type": "execute_result"
    }
   ],
   "source": [
    "board.head()"
   ]
  },
  {
   "cell_type": "markdown",
   "metadata": {},
   "source": [
    "harmonizing data set 2"
   ]
  },
  {
   "cell_type": "code",
   "execution_count": 58,
   "metadata": {
    "collapsed": false
   },
   "outputs": [
    {
     "data": {
      "text/plain": [
       "array(['BX08', 'BX12', 'BX10', 'BX11', 'BX03', 'BX06', 'BX07', 'BX05',\n",
       "       'BX04', 'BX09', 'BX01', 'BX02', 'MN12', 'MN09', 'MN10', 'MN11111',\n",
       "       'MN08', 'MN07', 'MN05', 'MN04', 'MN06', 'MN03', 'MN01', 'MN02',\n",
       "       'SI03', 'SI02', 'SI01', 'BK01', 'BK04', 'BK03', 'BK02', 'BK06',\n",
       "       'BK08', 'BK16', 'BK05', 'BK18', 'BK17', 'BK09', 'BK07', 'BK10',\n",
       "       'BK12', 'BK14', 'BK15', 'BK11', 'BK13', 'QN01', 'QN03', 'QN07',\n",
       "       'QN11', 'QN13', 'QN08', 'QN04', 'QN06', 'QN02', 'QN05', 'QN09',\n",
       "       'QN12', 'QN10', 'QN14'], dtype=object)"
      ]
     },
     "execution_count": 58,
     "metadata": {},
     "output_type": "execute_result"
    }
   ],
   "source": [
    "income['cd_id'].unique()"
   ]
  },
  {
   "cell_type": "code",
   "execution_count": 59,
   "metadata": {
    "collapsed": false
   },
   "outputs": [
    {
     "name": "stderr",
     "output_type": "stream",
     "text": [
      "/opt/rh/anaconda/root/envs/PUI2016_Python2/lib/python2.7/site-packages/ipykernel/__main__.py:1: SettingWithCopyWarning: \n",
      "A value is trying to be set on a copy of a slice from a DataFrame\n",
      "\n",
      "See the caveats in the documentation: http://pandas.pydata.org/pandas-docs/stable/indexing.html#indexing-view-versus-copy\n",
      "  if __name__ == '__main__':\n"
     ]
    }
   ],
   "source": [
    "income.replace('MN11111', 'MN11', inplace=True)"
   ]
  },
  {
   "cell_type": "code",
   "execution_count": 60,
   "metadata": {
    "collapsed": false
   },
   "outputs": [
    {
     "data": {
      "text/plain": [
       "array(['BX08', 'BX12', 'BX10', 'BX11', 'BX03', 'BX06', 'BX07', 'BX05',\n",
       "       'BX04', 'BX09', 'BX01', 'BX02', 'MN12', 'MN09', 'MN10', 'MN11',\n",
       "       'MN08', 'MN07', 'MN05', 'MN04', 'MN06', 'MN03', 'MN01', 'MN02',\n",
       "       'SI03', 'SI02', 'SI01', 'BK01', 'BK04', 'BK03', 'BK02', 'BK06',\n",
       "       'BK08', 'BK16', 'BK05', 'BK18', 'BK17', 'BK09', 'BK07', 'BK10',\n",
       "       'BK12', 'BK14', 'BK15', 'BK11', 'BK13', 'QN01', 'QN03', 'QN07',\n",
       "       'QN11', 'QN13', 'QN08', 'QN04', 'QN06', 'QN02', 'QN05', 'QN09',\n",
       "       'QN12', 'QN10', 'QN14'], dtype=object)"
      ]
     },
     "execution_count": 60,
     "metadata": {},
     "output_type": "execute_result"
    }
   ],
   "source": [
    "income['cd_id'].unique()"
   ]
  },
  {
   "cell_type": "markdown",
   "metadata": {},
   "source": [
    "harmonizing data set 3"
   ]
  },
  {
   "cell_type": "code",
   "execution_count": 62,
   "metadata": {
    "collapsed": false
   },
   "outputs": [
    {
     "data": {
      "text/plain": [
       "array(['NYC-Bronx Community District 8--Riverdale, New York',\n",
       "       'NYC-Bronx Community District 12--Wakefield, New York',\n",
       "       'NYC-Bronx Community District 10--Co-op City, New York',\n",
       "       'NYC-Bronx Community District 11--Pelham Parkway, New York',\n",
       "       'NYC-Bronx Community District 3 & 6--Belmont, New York',\n",
       "       'NYC-Bronx Community District 3 & 6--Belmont, New York',\n",
       "       'NYC-Bronx Community District 7--Bedford Park, New York',\n",
       "       'NYC-Bronx Community District 5--Morris Heights, New York',\n",
       "       'NYC-Bronx Community District 4--Concourse, New York',\n",
       "       'NYC-Bronx Community District 9--Castle Hill, New York',\n",
       "       'NYC-Bronx Community District 1 & 2--Hunts Point, New York',\n",
       "       'NYC-Bronx Community District 1 & 2--Hunts Point, New York',\n",
       "       'NYC-Manhattan Community District 12--Washington Heights, New York',\n",
       "       'NYC-Manhattan Community District 9--Hamilton Heights, New York',\n",
       "       'NYC-Manhattan Community District 10--Central Harlem PUMA, New York',\n",
       "       'NYC-Manhattan Community District 11--East Harlem PUMA, New York',\n",
       "       'NYC-Manhattan Community District 8--Upper East Side PUMA, New York',\n",
       "       'NYC-Manhattan Community District 7--Upper West Side & West Side PUMA, New York',\n",
       "       'NYC-Manhattan Community District 4 & 5--Chelsea, New York',\n",
       "       'NYC-Manhattan Community District 4 & 5--Chelsea, New York',\n",
       "       'NYC-Manhattan Community District 6--Murray Hill, New York',\n",
       "       'NYC-Manhattan Community District 3--Chinatown & Lower East Side PUMA, New York',\n",
       "       'NYC-Manhattan Community District 1 & 2--Battery Park City, New York',\n",
       "       'NYC-Manhattan Community District 1 & 2--Battery Park City, New York',\n",
       "       'NYC-Staten Island Community District 3--Tottenville, New York',\n",
       "       'NYC-Staten Island Community District 2--New Springville & South Beach PUMA, New York',\n",
       "       'NYC-Staten Island Community District 1--Port Richmond, New York',\n",
       "       'NYC-Brooklyn Community District 1--Greenpoint & Williamsburg PUMA, New York',\n",
       "       'NYC-Brooklyn Community District 4--Bushwick PUMA, New York',\n",
       "       'NYC-Brooklyn Community District 3--Bedford-Stuyvesant PUMA, New York',\n",
       "       'NYC-Brooklyn Community District 2--Brooklyn Heights & Fort Greene PUMA, New York',\n",
       "       'NYC-Brooklyn Community District 6--Park Slope, New York',\n",
       "       'NYC-Brooklyn Community District 8--Crown Heights North & Prospect Heights PUMA, New York',\n",
       "       'NYC-Brooklyn Community District 16--Brownsville & Ocean Hill PUMA, New York',\n",
       "       'NYC-Brooklyn Community District 5--East New York & Starrett City PUMA, New York',\n",
       "       'NYC-Brooklyn Community District 18--Canarsie & Flatlands PUMA, New York',\n",
       "       'NYC-Brooklyn Community District 17--East Flatbush, New York',\n",
       "       'NYC-Brooklyn Community District 9--Crown Heights South, New York',\n",
       "       'NYC-Brooklyn Community District 7--Sunset Park & Windsor Terrace PUMA, New York',\n",
       "       'NYC-Brooklyn Community District 10--Bay Ridge & Dyker Heights PUMA, New York',\n",
       "       'NYC-Brooklyn Community District 12--Borough Park, New York',\n",
       "       'NYC-Brooklyn Community District 14--Flatbush & Midwood PUMA, New York',\n",
       "       'NYC-Brooklyn Community District 15--Sheepshead Bay, New York',\n",
       "       'NYC-Brooklyn Community District 11--Bensonhurst & Bath Beach PUMA, New York',\n",
       "       'NYC-Brooklyn Community District 13--Brighton Beach & Coney Island PUMA, New York',\n",
       "       'NYC-Queens Community District 1--Astoria & Long Island City PUMA, New York',\n",
       "       'NYC-Queens Community District 3--Jackson Heights & North Corona PUMA, New York',\n",
       "       'NYC-Queens Community District 7--Flushing, New York',\n",
       "       'NYC-Queens Community District 11--Bayside, New York',\n",
       "       'NYC-Queens Community District 13--Queens Village, New York',\n",
       "       'NYC-Queens Community District 8--Briarwood, New York',\n",
       "       'NYC-Queens Community District 4--Elmhurst & South Corona PUMA, New York',\n",
       "       'NYC-Queens Community District 6--Forest Hills & Rego Park PUMA, New York',\n",
       "       'NYC-Queens Community District 2--Sunnyside & Woodside PUMA, New York',\n",
       "       'NYC-Queens Community District 5--Ridgewood, New York',\n",
       "       'NYC-Queens Community District 9--Richmond Hill & Woodhaven PUMA, New York',\n",
       "       'NYC-Queens Community District 12--Jamaica, New York',\n",
       "       'NYC-Queens Community District 10--Howard Beach & Ozone Park PUMA, New York',\n",
       "       'NYC-Queens Community District 14--Far Rockaway, New York'], dtype=object)"
      ]
     },
     "execution_count": 62,
     "metadata": {},
     "output_type": "execute_result"
    }
   ],
   "source": [
    "inf['Qualifying Name'].values"
   ]
  },
  {
   "cell_type": "code",
   "execution_count": 63,
   "metadata": {
    "collapsed": false
   },
   "outputs": [
    {
     "data": {
      "text/plain": [
       "array(['NYC-Bronx Community District 8--Riverdale, New York',\n",
       "       'NYC-Bronx Community District 12--Wakefield, New York',\n",
       "       'NYC-Bronx Community District 10--Co-op City, New York',\n",
       "       'NYC-Bronx Community District 11--Pelham Parkway, New York',\n",
       "       'NYC-Bronx Community District 3 & 6--Belmont, New York',\n",
       "       'NYC-Bronx Community District 7--Bedford Park, New York',\n",
       "       'NYC-Bronx Community District 5--Morris Heights, New York',\n",
       "       'NYC-Bronx Community District 4--Concourse, New York',\n",
       "       'NYC-Bronx Community District 9--Castle Hill, New York',\n",
       "       'NYC-Bronx Community District 1 & 2--Hunts Point, New York',\n",
       "       'NYC-Manhattan Community District 12--Washington Heights, New York',\n",
       "       'NYC-Manhattan Community District 9--Hamilton Heights, New York',\n",
       "       'NYC-Manhattan Community District 10--Central Harlem PUMA, New York',\n",
       "       'NYC-Manhattan Community District 11--East Harlem PUMA, New York',\n",
       "       'NYC-Manhattan Community District 8--Upper East Side PUMA, New York',\n",
       "       'NYC-Manhattan Community District 7--Upper West Side & West Side PUMA, New York',\n",
       "       'NYC-Manhattan Community District 4 & 5--Chelsea, New York',\n",
       "       'NYC-Manhattan Community District 6--Murray Hill, New York',\n",
       "       'NYC-Manhattan Community District 3--Chinatown & Lower East Side PUMA, New York',\n",
       "       'NYC-Manhattan Community District 1 & 2--Battery Park City, New York',\n",
       "       'NYC-Staten Island Community District 3--Tottenville, New York',\n",
       "       'NYC-Staten Island Community District 2--New Springville & South Beach PUMA, New York',\n",
       "       'NYC-Staten Island Community District 1--Port Richmond, New York',\n",
       "       'NYC-Brooklyn Community District 1--Greenpoint & Williamsburg PUMA, New York',\n",
       "       'NYC-Brooklyn Community District 4--Bushwick PUMA, New York',\n",
       "       'NYC-Brooklyn Community District 3--Bedford-Stuyvesant PUMA, New York',\n",
       "       'NYC-Brooklyn Community District 2--Brooklyn Heights & Fort Greene PUMA, New York',\n",
       "       'NYC-Brooklyn Community District 6--Park Slope, New York',\n",
       "       'NYC-Brooklyn Community District 8--Crown Heights North & Prospect Heights PUMA, New York',\n",
       "       'NYC-Brooklyn Community District 16--Brownsville & Ocean Hill PUMA, New York',\n",
       "       'NYC-Brooklyn Community District 5--East New York & Starrett City PUMA, New York',\n",
       "       'NYC-Brooklyn Community District 18--Canarsie & Flatlands PUMA, New York',\n",
       "       'NYC-Brooklyn Community District 17--East Flatbush, New York',\n",
       "       'NYC-Brooklyn Community District 9--Crown Heights South, New York',\n",
       "       'NYC-Brooklyn Community District 7--Sunset Park & Windsor Terrace PUMA, New York',\n",
       "       'NYC-Brooklyn Community District 10--Bay Ridge & Dyker Heights PUMA, New York',\n",
       "       'NYC-Brooklyn Community District 12--Borough Park, New York',\n",
       "       'NYC-Brooklyn Community District 14--Flatbush & Midwood PUMA, New York',\n",
       "       'NYC-Brooklyn Community District 15--Sheepshead Bay, New York',\n",
       "       'NYC-Brooklyn Community District 11--Bensonhurst & Bath Beach PUMA, New York',\n",
       "       'NYC-Brooklyn Community District 13--Brighton Beach & Coney Island PUMA, New York',\n",
       "       'NYC-Queens Community District 1--Astoria & Long Island City PUMA, New York',\n",
       "       'NYC-Queens Community District 3--Jackson Heights & North Corona PUMA, New York',\n",
       "       'NYC-Queens Community District 7--Flushing, New York',\n",
       "       'NYC-Queens Community District 11--Bayside, New York',\n",
       "       'NYC-Queens Community District 13--Queens Village, New York',\n",
       "       'NYC-Queens Community District 8--Briarwood, New York',\n",
       "       'NYC-Queens Community District 4--Elmhurst & South Corona PUMA, New York',\n",
       "       'NYC-Queens Community District 6--Forest Hills & Rego Park PUMA, New York',\n",
       "       'NYC-Queens Community District 2--Sunnyside & Woodside PUMA, New York',\n",
       "       'NYC-Queens Community District 5--Ridgewood, New York',\n",
       "       'NYC-Queens Community District 9--Richmond Hill & Woodhaven PUMA, New York',\n",
       "       'NYC-Queens Community District 12--Jamaica, New York',\n",
       "       'NYC-Queens Community District 10--Howard Beach & Ozone Park PUMA, New York',\n",
       "       'NYC-Queens Community District 14--Far Rockaway, New York'], dtype=object)"
      ]
     },
     "execution_count": 63,
     "metadata": {},
     "output_type": "execute_result"
    }
   ],
   "source": [
    "inf.drop_duplicates(inplace=True)\n",
    "inf['Qualifying Name'].values"
   ]
  },
  {
   "cell_type": "code",
   "execution_count": 64,
   "metadata": {
    "collapsed": false
   },
   "outputs": [
    {
     "data": {
      "text/html": [
       "<div>\n",
       "<table border=\"1\" class=\"dataframe\">\n",
       "  <thead>\n",
       "    <tr style=\"text-align: right;\">\n",
       "      <th></th>\n",
       "      <th>FIPS</th>\n",
       "      <th>Geographic Identifier</th>\n",
       "      <th>Households</th>\n",
       "      <th>Households: With An Internet Subscription</th>\n",
       "      <th>Households: Dial-Up Alone</th>\n",
       "      <th>Households: Dsl</th>\n",
       "      <th>Households: With Mobile Broadband</th>\n",
       "      <th>Households: Without Mobile Broadband</th>\n",
       "      <th>Households: Cable Modem</th>\n",
       "      <th>Households: With Mobile Broadband.1</th>\n",
       "      <th>...</th>\n",
       "      <th>Households: No Internet Access</th>\n",
       "      <th>% Households: With An Internet Subscription</th>\n",
       "      <th>Households.1</th>\n",
       "      <th>Households: Has A Computer</th>\n",
       "      <th>Households: With Dial-Up Internet Subscription Alone</th>\n",
       "      <th>Households: With A Broadband Internet Subscription</th>\n",
       "      <th>Households: Without An Internet Subscription</th>\n",
       "      <th>Households: No Computer</th>\n",
       "      <th>Internet Access</th>\n",
       "      <th>cd_id</th>\n",
       "    </tr>\n",
       "  </thead>\n",
       "  <tbody>\n",
       "    <tr>\n",
       "      <th>0</th>\n",
       "      <td>3603701</td>\n",
       "      <td>79500US3603701</td>\n",
       "      <td>42035</td>\n",
       "      <td>31795</td>\n",
       "      <td>444</td>\n",
       "      <td>2813</td>\n",
       "      <td>946</td>\n",
       "      <td>1867</td>\n",
       "      <td>19178</td>\n",
       "      <td>10433</td>\n",
       "      <td>...</td>\n",
       "      <td>8121</td>\n",
       "      <td>75.64</td>\n",
       "      <td>42035</td>\n",
       "      <td>35048</td>\n",
       "      <td>404</td>\n",
       "      <td>30943</td>\n",
       "      <td>3701</td>\n",
       "      <td>6987</td>\n",
       "      <td>0.640585</td>\n",
       "      <td>BX08</td>\n",
       "    </tr>\n",
       "    <tr>\n",
       "      <th>1</th>\n",
       "      <td>3603702</td>\n",
       "      <td>79500US3603702</td>\n",
       "      <td>44830</td>\n",
       "      <td>32243</td>\n",
       "      <td>178</td>\n",
       "      <td>849</td>\n",
       "      <td>405</td>\n",
       "      <td>444</td>\n",
       "      <td>18653</td>\n",
       "      <td>5577</td>\n",
       "      <td>...</td>\n",
       "      <td>10696</td>\n",
       "      <td>71.92</td>\n",
       "      <td>44830</td>\n",
       "      <td>36700</td>\n",
       "      <td>178</td>\n",
       "      <td>31435</td>\n",
       "      <td>5087</td>\n",
       "      <td>8130</td>\n",
       "      <td>0.580058</td>\n",
       "      <td>BX12</td>\n",
       "    </tr>\n",
       "    <tr>\n",
       "      <th>2</th>\n",
       "      <td>3603703</td>\n",
       "      <td>79500US3603703</td>\n",
       "      <td>47050</td>\n",
       "      <td>32729</td>\n",
       "      <td>158</td>\n",
       "      <td>1863</td>\n",
       "      <td>398</td>\n",
       "      <td>1465</td>\n",
       "      <td>20044</td>\n",
       "      <td>6377</td>\n",
       "      <td>...</td>\n",
       "      <td>11439</td>\n",
       "      <td>69.56</td>\n",
       "      <td>47050</td>\n",
       "      <td>38700</td>\n",
       "      <td>158</td>\n",
       "      <td>32333</td>\n",
       "      <td>6209</td>\n",
       "      <td>8350</td>\n",
       "      <td>0.579405</td>\n",
       "      <td>BX10</td>\n",
       "    </tr>\n",
       "    <tr>\n",
       "      <th>3</th>\n",
       "      <td>3603704</td>\n",
       "      <td>79500US3603704</td>\n",
       "      <td>44922</td>\n",
       "      <td>32003</td>\n",
       "      <td>141</td>\n",
       "      <td>1478</td>\n",
       "      <td>474</td>\n",
       "      <td>1004</td>\n",
       "      <td>17917</td>\n",
       "      <td>5624</td>\n",
       "      <td>...</td>\n",
       "      <td>10197</td>\n",
       "      <td>71.24</td>\n",
       "      <td>44922</td>\n",
       "      <td>37237</td>\n",
       "      <td>122</td>\n",
       "      <td>31278</td>\n",
       "      <td>5837</td>\n",
       "      <td>7685</td>\n",
       "      <td>0.601932</td>\n",
       "      <td>BX11</td>\n",
       "    </tr>\n",
       "    <tr>\n",
       "      <th>4</th>\n",
       "      <td>3603705</td>\n",
       "      <td>79500US3603705</td>\n",
       "      <td>57556</td>\n",
       "      <td>35503</td>\n",
       "      <td>88</td>\n",
       "      <td>1297</td>\n",
       "      <td>651</td>\n",
       "      <td>646</td>\n",
       "      <td>15847</td>\n",
       "      <td>6690</td>\n",
       "      <td>...</td>\n",
       "      <td>18741</td>\n",
       "      <td>61.68</td>\n",
       "      <td>57556</td>\n",
       "      <td>42576</td>\n",
       "      <td>88</td>\n",
       "      <td>33408</td>\n",
       "      <td>9080</td>\n",
       "      <td>14980</td>\n",
       "      <td>0.414118</td>\n",
       "      <td>BX03</td>\n",
       "    </tr>\n",
       "  </tbody>\n",
       "</table>\n",
       "<p>5 rows × 32 columns</p>\n",
       "</div>"
      ],
      "text/plain": [
       "      FIPS Geographic Identifier  Households  \\\n",
       "0  3603701        79500US3603701       42035   \n",
       "1  3603702        79500US3603702       44830   \n",
       "2  3603703        79500US3603703       47050   \n",
       "3  3603704        79500US3603704       44922   \n",
       "4  3603705        79500US3603705       57556   \n",
       "\n",
       "   Households: With An Internet Subscription  Households: Dial-Up Alone  \\\n",
       "0                                      31795                        444   \n",
       "1                                      32243                        178   \n",
       "2                                      32729                        158   \n",
       "3                                      32003                        141   \n",
       "4                                      35503                         88   \n",
       "\n",
       "   Households: Dsl  Households: With Mobile Broadband  \\\n",
       "0             2813                                946   \n",
       "1              849                                405   \n",
       "2             1863                                398   \n",
       "3             1478                                474   \n",
       "4             1297                                651   \n",
       "\n",
       "   Households: Without Mobile Broadband  Households: Cable Modem  \\\n",
       "0                                  1867                    19178   \n",
       "1                                   444                    18653   \n",
       "2                                  1465                    20044   \n",
       "3                                  1004                    17917   \n",
       "4                                   646                    15847   \n",
       "\n",
       "   Households: With Mobile Broadband.1  ...    Households: No Internet Access  \\\n",
       "0                                10433  ...                              8121   \n",
       "1                                 5577  ...                             10696   \n",
       "2                                 6377  ...                             11439   \n",
       "3                                 5624  ...                             10197   \n",
       "4                                 6690  ...                             18741   \n",
       "\n",
       "   % Households: With An Internet Subscription  Households.1  \\\n",
       "0                                        75.64         42035   \n",
       "1                                        71.92         44830   \n",
       "2                                        69.56         47050   \n",
       "3                                        71.24         44922   \n",
       "4                                        61.68         57556   \n",
       "\n",
       "   Households: Has A Computer  \\\n",
       "0                       35048   \n",
       "1                       36700   \n",
       "2                       38700   \n",
       "3                       37237   \n",
       "4                       42576   \n",
       "\n",
       "   Households: With Dial-Up Internet Subscription Alone  \\\n",
       "0                                                404      \n",
       "1                                                178      \n",
       "2                                                158      \n",
       "3                                                122      \n",
       "4                                                 88      \n",
       "\n",
       "   Households: With A Broadband Internet Subscription  \\\n",
       "0                                              30943    \n",
       "1                                              31435    \n",
       "2                                              32333    \n",
       "3                                              31278    \n",
       "4                                              33408    \n",
       "\n",
       "   Households: Without An Internet Subscription  Households: No Computer  \\\n",
       "0                                          3701                     6987   \n",
       "1                                          5087                     8130   \n",
       "2                                          6209                     8350   \n",
       "3                                          5837                     7685   \n",
       "4                                          9080                    14980   \n",
       "\n",
       "   Internet Access  cd_id  \n",
       "0         0.640585   BX08  \n",
       "1         0.580058   BX12  \n",
       "2         0.579405   BX10  \n",
       "3         0.601932   BX11  \n",
       "4         0.414118   BX03  \n",
       "\n",
       "[5 rows x 32 columns]"
      ]
     },
     "execution_count": 64,
     "metadata": {},
     "output_type": "execute_result"
    }
   ],
   "source": [
    "cd_id1 = {'Bronx': 'BX', 'Brooklyn': 'BK', 'Manhattan': 'MN', 'Queens': 'QN', 'Staten': 'SI'}\n",
    "inf['cd_boro'] = inf['Qualifying Name'].str.extract('(?<=^....)(?P<letter>[a-zA-Z]+)',\n",
    "                                                                                expand=True)\n",
    "inf['cd_num'] = inf['Qualifying Name'].str.extract('([0-9]+)',\n",
    "                                                                                expand=True)\n",
    "\n",
    "inf['cd_num'] = inf['cd_num'].apply(lambda x: '{0:0>2}'.format(x))\n",
    "inf.replace({'cd_boro': cd_id1}, inplace=True)\n",
    "inf['cd_id'] = inf.cd_boro + inf.cd_num\n",
    "inf.drop(['Qualifying Name', 'cd_num', 'cd_boro'], axis=1, inplace=True)\n",
    "inf.head()"
   ]
  },
  {
   "cell_type": "markdown",
   "metadata": {},
   "source": [
    "linking 3 data frames"
   ]
  },
  {
   "cell_type": "code",
   "execution_count": 66,
   "metadata": {
    "collapsed": false
   },
   "outputs": [
    {
     "data": {
      "text/html": [
       "<div>\n",
       "<table border=\"1\" class=\"dataframe\">\n",
       "  <thead>\n",
       "    <tr style=\"text-align: right;\">\n",
       "      <th></th>\n",
       "      <th>num_complaints</th>\n",
       "      <th>cd_id</th>\n",
       "      <th>median_house_income</th>\n",
       "    </tr>\n",
       "  </thead>\n",
       "  <tbody>\n",
       "    <tr>\n",
       "      <th>0</th>\n",
       "      <td>280</td>\n",
       "      <td>BX01</td>\n",
       "      <td>21116.0</td>\n",
       "    </tr>\n",
       "    <tr>\n",
       "      <th>1</th>\n",
       "      <td>791</td>\n",
       "      <td>BK01</td>\n",
       "      <td>57818.0</td>\n",
       "    </tr>\n",
       "    <tr>\n",
       "      <th>2</th>\n",
       "      <td>353</td>\n",
       "      <td>MN01</td>\n",
       "      <td>120190.0</td>\n",
       "    </tr>\n",
       "    <tr>\n",
       "      <th>3</th>\n",
       "      <td>687</td>\n",
       "      <td>QN01</td>\n",
       "      <td>56269.0</td>\n",
       "    </tr>\n",
       "    <tr>\n",
       "      <th>4</th>\n",
       "      <td>659</td>\n",
       "      <td>SI01</td>\n",
       "      <td>57602.0</td>\n",
       "    </tr>\n",
       "  </tbody>\n",
       "</table>\n",
       "</div>"
      ],
      "text/plain": [
       "   num_complaints cd_id  median_house_income\n",
       "0             280  BX01              21116.0\n",
       "1             791  BK01              57818.0\n",
       "2             353  MN01             120190.0\n",
       "3             687  QN01              56269.0\n",
       "4             659  SI01              57602.0"
      ]
     },
     "execution_count": 66,
     "metadata": {},
     "output_type": "execute_result"
    }
   ],
   "source": [
    "merge1 = pd.merge(board, income, on='cd_id', how='left')\n",
    "merge1.head()"
   ]
  },
  {
   "cell_type": "code",
   "execution_count": 88,
   "metadata": {
    "collapsed": false
   },
   "outputs": [
    {
     "data": {
      "text/html": [
       "<div>\n",
       "<table border=\"1\" class=\"dataframe\">\n",
       "  <thead>\n",
       "    <tr style=\"text-align: right;\">\n",
       "      <th></th>\n",
       "      <th>num_complaints</th>\n",
       "      <th>cd_id</th>\n",
       "      <th>median_house_income</th>\n",
       "      <th>FIPS</th>\n",
       "      <th>Geographic Identifier</th>\n",
       "      <th>Households</th>\n",
       "      <th>Households: With An Internet Subscription</th>\n",
       "      <th>Households: Dial-Up Alone</th>\n",
       "      <th>Households: Dsl</th>\n",
       "      <th>Households: With Mobile Broadband</th>\n",
       "      <th>...</th>\n",
       "      <th>Households: Internet Access Without A Subscription</th>\n",
       "      <th>Households: No Internet Access</th>\n",
       "      <th>% Households: With An Internet Subscription</th>\n",
       "      <th>Households.1</th>\n",
       "      <th>Households: Has A Computer</th>\n",
       "      <th>Households: With Dial-Up Internet Subscription Alone</th>\n",
       "      <th>Households: With A Broadband Internet Subscription</th>\n",
       "      <th>Households: Without An Internet Subscription</th>\n",
       "      <th>Households: No Computer</th>\n",
       "      <th>Internet Access</th>\n",
       "    </tr>\n",
       "  </thead>\n",
       "  <tbody>\n",
       "    <tr>\n",
       "      <th>0</th>\n",
       "      <td>280</td>\n",
       "      <td>BX01</td>\n",
       "      <td>21116.0</td>\n",
       "      <td>3603710.0</td>\n",
       "      <td>79500US3603710</td>\n",
       "      <td>52191.0</td>\n",
       "      <td>32713.0</td>\n",
       "      <td>0.0</td>\n",
       "      <td>982.0</td>\n",
       "      <td>360.0</td>\n",
       "      <td>...</td>\n",
       "      <td>2412.0</td>\n",
       "      <td>17066.0</td>\n",
       "      <td>62.68</td>\n",
       "      <td>52191.0</td>\n",
       "      <td>39141.0</td>\n",
       "      <td>0.0</td>\n",
       "      <td>30958.0</td>\n",
       "      <td>8183.0</td>\n",
       "      <td>13050.0</td>\n",
       "      <td>0.422966</td>\n",
       "    </tr>\n",
       "    <tr>\n",
       "      <th>1</th>\n",
       "      <td>791</td>\n",
       "      <td>BK01</td>\n",
       "      <td>57818.0</td>\n",
       "      <td>3604001.0</td>\n",
       "      <td>79500US3604001</td>\n",
       "      <td>62990.0</td>\n",
       "      <td>47013.0</td>\n",
       "      <td>449.0</td>\n",
       "      <td>4406.0</td>\n",
       "      <td>1665.0</td>\n",
       "      <td>...</td>\n",
       "      <td>2451.0</td>\n",
       "      <td>13526.0</td>\n",
       "      <td>74.64</td>\n",
       "      <td>62990.0</td>\n",
       "      <td>52660.0</td>\n",
       "      <td>449.0</td>\n",
       "      <td>46148.0</td>\n",
       "      <td>6063.0</td>\n",
       "      <td>10330.0</td>\n",
       "      <td>0.621273</td>\n",
       "    </tr>\n",
       "    <tr>\n",
       "      <th>2</th>\n",
       "      <td>353</td>\n",
       "      <td>MN01</td>\n",
       "      <td>120190.0</td>\n",
       "      <td>3603810.0</td>\n",
       "      <td>79500US3603810</td>\n",
       "      <td>83976.0</td>\n",
       "      <td>74694.0</td>\n",
       "      <td>132.0</td>\n",
       "      <td>4862.0</td>\n",
       "      <td>2565.0</td>\n",
       "      <td>...</td>\n",
       "      <td>3089.0</td>\n",
       "      <td>6193.0</td>\n",
       "      <td>88.95</td>\n",
       "      <td>83976.0</td>\n",
       "      <td>79890.0</td>\n",
       "      <td>132.0</td>\n",
       "      <td>74339.0</td>\n",
       "      <td>5419.0</td>\n",
       "      <td>4086.0</td>\n",
       "      <td>0.877596</td>\n",
       "    </tr>\n",
       "    <tr>\n",
       "      <th>3</th>\n",
       "      <td>687</td>\n",
       "      <td>QN01</td>\n",
       "      <td>56269.0</td>\n",
       "      <td>3604101.0</td>\n",
       "      <td>79500US3604101</td>\n",
       "      <td>75758.0</td>\n",
       "      <td>61861.0</td>\n",
       "      <td>277.0</td>\n",
       "      <td>7822.0</td>\n",
       "      <td>2960.0</td>\n",
       "      <td>...</td>\n",
       "      <td>1815.0</td>\n",
       "      <td>12082.0</td>\n",
       "      <td>81.66</td>\n",
       "      <td>75758.0</td>\n",
       "      <td>66023.0</td>\n",
       "      <td>277.0</td>\n",
       "      <td>60733.0</td>\n",
       "      <td>5013.0</td>\n",
       "      <td>9735.0</td>\n",
       "      <td>0.712017</td>\n",
       "    </tr>\n",
       "    <tr>\n",
       "      <th>4</th>\n",
       "      <td>659</td>\n",
       "      <td>SI01</td>\n",
       "      <td>57602.0</td>\n",
       "      <td>3603903.0</td>\n",
       "      <td>79500US3603903</td>\n",
       "      <td>62047.0</td>\n",
       "      <td>47186.0</td>\n",
       "      <td>162.0</td>\n",
       "      <td>1851.0</td>\n",
       "      <td>355.0</td>\n",
       "      <td>...</td>\n",
       "      <td>1340.0</td>\n",
       "      <td>13521.0</td>\n",
       "      <td>76.05</td>\n",
       "      <td>62047.0</td>\n",
       "      <td>50159.0</td>\n",
       "      <td>134.0</td>\n",
       "      <td>46362.0</td>\n",
       "      <td>3663.0</td>\n",
       "      <td>11888.0</td>\n",
       "      <td>0.590488</td>\n",
       "    </tr>\n",
       "  </tbody>\n",
       "</table>\n",
       "<p>5 rows × 34 columns</p>\n",
       "</div>"
      ],
      "text/plain": [
       "   num_complaints cd_id  median_house_income       FIPS Geographic Identifier  \\\n",
       "0             280  BX01              21116.0  3603710.0        79500US3603710   \n",
       "1             791  BK01              57818.0  3604001.0        79500US3604001   \n",
       "2             353  MN01             120190.0  3603810.0        79500US3603810   \n",
       "3             687  QN01              56269.0  3604101.0        79500US3604101   \n",
       "4             659  SI01              57602.0  3603903.0        79500US3603903   \n",
       "\n",
       "   Households  Households: With An Internet Subscription  \\\n",
       "0     52191.0                                    32713.0   \n",
       "1     62990.0                                    47013.0   \n",
       "2     83976.0                                    74694.0   \n",
       "3     75758.0                                    61861.0   \n",
       "4     62047.0                                    47186.0   \n",
       "\n",
       "   Households: Dial-Up Alone  Households: Dsl  \\\n",
       "0                        0.0            982.0   \n",
       "1                      449.0           4406.0   \n",
       "2                      132.0           4862.0   \n",
       "3                      277.0           7822.0   \n",
       "4                      162.0           1851.0   \n",
       "\n",
       "   Households: With Mobile Broadband       ...         \\\n",
       "0                              360.0       ...          \n",
       "1                             1665.0       ...          \n",
       "2                             2565.0       ...          \n",
       "3                             2960.0       ...          \n",
       "4                              355.0       ...          \n",
       "\n",
       "   Households: Internet Access Without A Subscription  \\\n",
       "0                                             2412.0    \n",
       "1                                             2451.0    \n",
       "2                                             3089.0    \n",
       "3                                             1815.0    \n",
       "4                                             1340.0    \n",
       "\n",
       "   Households: No Internet Access  \\\n",
       "0                         17066.0   \n",
       "1                         13526.0   \n",
       "2                          6193.0   \n",
       "3                         12082.0   \n",
       "4                         13521.0   \n",
       "\n",
       "   % Households: With An Internet Subscription  Households.1  \\\n",
       "0                                        62.68       52191.0   \n",
       "1                                        74.64       62990.0   \n",
       "2                                        88.95       83976.0   \n",
       "3                                        81.66       75758.0   \n",
       "4                                        76.05       62047.0   \n",
       "\n",
       "   Households: Has A Computer  \\\n",
       "0                     39141.0   \n",
       "1                     52660.0   \n",
       "2                     79890.0   \n",
       "3                     66023.0   \n",
       "4                     50159.0   \n",
       "\n",
       "   Households: With Dial-Up Internet Subscription Alone  \\\n",
       "0                                                0.0      \n",
       "1                                              449.0      \n",
       "2                                              132.0      \n",
       "3                                              277.0      \n",
       "4                                              134.0      \n",
       "\n",
       "   Households: With A Broadband Internet Subscription  \\\n",
       "0                                            30958.0    \n",
       "1                                            46148.0    \n",
       "2                                            74339.0    \n",
       "3                                            60733.0    \n",
       "4                                            46362.0    \n",
       "\n",
       "   Households: Without An Internet Subscription  Households: No Computer  \\\n",
       "0                                        8183.0                  13050.0   \n",
       "1                                        6063.0                  10330.0   \n",
       "2                                        5419.0                   4086.0   \n",
       "3                                        5013.0                   9735.0   \n",
       "4                                        3663.0                  11888.0   \n",
       "\n",
       "   Internet Access  \n",
       "0         0.422966  \n",
       "1         0.621273  \n",
       "2         0.877596  \n",
       "3         0.712017  \n",
       "4         0.590488  \n",
       "\n",
       "[5 rows x 34 columns]"
      ]
     },
     "execution_count": 88,
     "metadata": {},
     "output_type": "execute_result"
    }
   ],
   "source": [
    "merge = pd.merge(merge1, inf, on='cd_id', how='left')\n",
    "merge.head()"
   ]
  },
  {
   "cell_type": "markdown",
   "metadata": {},
   "source": [
    "dropping columns"
   ]
  },
  {
   "cell_type": "code",
   "execution_count": 89,
   "metadata": {
    "collapsed": false
   },
   "outputs": [
    {
     "data": {
      "text/plain": [
       "Index([u'num_complaints', u'cd_id', u'median_house_income', u'FIPS',\n",
       "       u'Geographic Identifier', u'Households',\n",
       "       u'Households: With An Internet Subscription',\n",
       "       u'Households: Dial-Up Alone', u'Households: Dsl',\n",
       "       u'Households: With Mobile Broadband',\n",
       "       u'Households: Without Mobile Broadband', u'Households: Cable Modem',\n",
       "       u'Households: With Mobile Broadband.1',\n",
       "       u'Households: Without Mobile Broadband.1', u'Households: Fiber-Optic',\n",
       "       u'Households: With Mobile Broadband.2',\n",
       "       u'Households: Without Mobile Broadband.2',\n",
       "       u'Households: Satellite Internet Service',\n",
       "       u'Households: With Mobile Broadband.3',\n",
       "       u'Households: Without Mobile Broadband.3',\n",
       "       u'Households: Two or More Fixed Broadband Types, or Other',\n",
       "       u'Households: With Mobile Broadband.4',\n",
       "       u'Households: Without Mobile Broadband.4',\n",
       "       u'Households: Mobile Broadband Alone or With Dialup',\n",
       "       u'Households: Internet Access Without A Subscription',\n",
       "       u'Households: No Internet Access',\n",
       "       u'% Households: With An Internet Subscription', u'Households.1',\n",
       "       u'Households: Has A Computer',\n",
       "       u'Households: With Dial-Up Internet Subscription Alone',\n",
       "       u'Households: With A Broadband Internet Subscription',\n",
       "       u'Households: Without An Internet Subscription',\n",
       "       u'Households: No Computer', u'Internet Access'],\n",
       "      dtype='object')"
      ]
     },
     "execution_count": 89,
     "metadata": {},
     "output_type": "execute_result"
    }
   ],
   "source": [
    "merge.columns"
   ]
  },
  {
   "cell_type": "code",
   "execution_count": 90,
   "metadata": {
    "collapsed": false
   },
   "outputs": [
    {
     "data": {
      "text/html": [
       "<div>\n",
       "<table border=\"1\" class=\"dataframe\">\n",
       "  <thead>\n",
       "    <tr style=\"text-align: right;\">\n",
       "      <th></th>\n",
       "      <th>num_complaints</th>\n",
       "      <th>cd_id</th>\n",
       "      <th>median_house_income</th>\n",
       "      <th>Households</th>\n",
       "      <th>Internet Access</th>\n",
       "    </tr>\n",
       "  </thead>\n",
       "  <tbody>\n",
       "    <tr>\n",
       "      <th>0</th>\n",
       "      <td>280</td>\n",
       "      <td>BX01</td>\n",
       "      <td>21116.0</td>\n",
       "      <td>52191.0</td>\n",
       "      <td>0.422966</td>\n",
       "    </tr>\n",
       "    <tr>\n",
       "      <th>1</th>\n",
       "      <td>791</td>\n",
       "      <td>BK01</td>\n",
       "      <td>57818.0</td>\n",
       "      <td>62990.0</td>\n",
       "      <td>0.621273</td>\n",
       "    </tr>\n",
       "    <tr>\n",
       "      <th>2</th>\n",
       "      <td>353</td>\n",
       "      <td>MN01</td>\n",
       "      <td>120190.0</td>\n",
       "      <td>83976.0</td>\n",
       "      <td>0.877596</td>\n",
       "    </tr>\n",
       "    <tr>\n",
       "      <th>3</th>\n",
       "      <td>687</td>\n",
       "      <td>QN01</td>\n",
       "      <td>56269.0</td>\n",
       "      <td>75758.0</td>\n",
       "      <td>0.712017</td>\n",
       "    </tr>\n",
       "    <tr>\n",
       "      <th>4</th>\n",
       "      <td>659</td>\n",
       "      <td>SI01</td>\n",
       "      <td>57602.0</td>\n",
       "      <td>62047.0</td>\n",
       "      <td>0.590488</td>\n",
       "    </tr>\n",
       "  </tbody>\n",
       "</table>\n",
       "</div>"
      ],
      "text/plain": [
       "   num_complaints cd_id  median_house_income  Households  Internet Access\n",
       "0             280  BX01              21116.0     52191.0         0.422966\n",
       "1             791  BK01              57818.0     62990.0         0.621273\n",
       "2             353  MN01             120190.0     83976.0         0.877596\n",
       "3             687  QN01              56269.0     75758.0         0.712017\n",
       "4             659  SI01              57602.0     62047.0         0.590488"
      ]
     },
     "execution_count": 90,
     "metadata": {},
     "output_type": "execute_result"
    }
   ],
   "source": [
    "merge.drop(['FIPS', 'Geographic Identifier'], axis=1, inplace=True)\n",
    "merge.drop([u'Households: With An Internet Subscription',\n",
    "       u'Households: Dial-Up Alone', u'Households: Dsl',\n",
    "       u'Households: With Mobile Broadband',\n",
    "       u'Households: Without Mobile Broadband', u'Households: Cable Modem',\n",
    "       u'Households: With Mobile Broadband.1',\n",
    "       u'Households: Without Mobile Broadband.1', u'Households: Fiber-Optic',\n",
    "       u'Households: With Mobile Broadband.2',\n",
    "       u'Households: Without Mobile Broadband.2',\n",
    "       u'Households: Satellite Internet Service',\n",
    "       u'Households: With Mobile Broadband.3',\n",
    "       u'Households: Without Mobile Broadband.3',\n",
    "       u'Households: Two or More Fixed Broadband Types, or Other',\n",
    "       u'Households: With Mobile Broadband.4',\n",
    "       u'Households: Without Mobile Broadband.4',\n",
    "       u'Households: Mobile Broadband Alone or With Dialup',\n",
    "       u'Households: Internet Access Without A Subscription',\n",
    "       u'Households: No Internet Access',\n",
    "       u'% Households: With An Internet Subscription', u'Households.1',\n",
    "       u'Households: Has A Computer',\n",
    "       u'Households: With Dial-Up Internet Subscription Alone',\n",
    "       u'Households: With A Broadband Internet Subscription',\n",
    "       u'Households: Without An Internet Subscription',\n",
    "       u'Households: No Computer',], axis=1, inplace=True)\n",
    "merge.head()"
   ]
  },
  {
   "cell_type": "code",
   "execution_count": 104,
   "metadata": {
    "collapsed": false
   },
   "outputs": [
    {
     "data": {
      "text/plain": [
       "<matplotlib.text.Text at 0x7fd1cdaaf050>"
      ]
     },
     "execution_count": 104,
     "metadata": {},
     "output_type": "execute_result"
    },
    {
     "data": {
      "image/png": "[encoded data removed]",
      "text/plain": [
       "<matplotlib.figure.Figure at 0x7fd1cdb57b50>"
      ]
     },
     "metadata": {},
     "output_type": "display_data"
    }
   ],
   "source": [
    "x = merge['median_house_income']\n",
    "y = merge['num_complaints']\n",
    "z = merge['Internet Access']\n",
    "\n",
    "plt.plot(x, y, '.')\n",
    "plt.xlabel('Median Household Income')\n",
    "plt.ylabel('Number of 311 Calls Per Community District')\n",
    "plt.title('Does Wealth Affect the Number of 311 Calls in a Neighborhood?')"
   ]
  },
  {
   "cell_type": "markdown",
   "metadata": {},
   "source": [
    "looks like a modest positive relationship (with more time I'd show that with a statistical test)"
   ]
  },
  {
   "cell_type": "code",
   "execution_count": 106,
   "metadata": {
    "collapsed": false
   },
   "outputs": [
    {
     "data": {
      "text/plain": [
       "<matplotlib.text.Text at 0x7fd1cd917550>"
      ]
     },
     "execution_count": 106,
     "metadata": {},
     "output_type": "execute_result"
    },
    {
     "data": {
      "image/png": "[encoded data removed]",
      "text/plain": [
       "<matplotlib.figure.Figure at 0x7fd1cd9b8b50>"
      ]
     },
     "metadata": {},
     "output_type": "display_data"
    }
   ],
   "source": [
    "plt.plot(x, z, '.')\n",
    "plt.xlabel('Median Household Income')\n",
    "plt.ylabel('Internet Access %')\n",
    "plt.title('Does Wealth Affect the Level of Internet Access in a Neighborhood?')"
   ]
  },
  {
   "cell_type": "markdown",
   "metadata": {},
   "source": [
    "this shows an obvious, very strong relationship between income and internet access"
   ]
  },
  {
   "cell_type": "code",
   "execution_count": 107,
   "metadata": {
    "collapsed": false
   },
   "outputs": [
    {
     "data": {
      "text/plain": [
       "<matplotlib.text.Text at 0x7fd1cd8c9a90>"
      ]
     },
     "execution_count": 107,
     "metadata": {},
     "output_type": "execute_result"
    },
    {
     "data": {
      "image/png": "[encoded data removed]",
      "text/plain": [
       "<matplotlib.figure.Figure at 0x7fd1cd8ee290>"
      ]
     },
     "metadata": {},
     "output_type": "display_data"
    }
   ],
   "source": [
    "plt.plot(y, z, '.')\n",
    "plt.xlabel('Number of 311 Calls')\n",
    "plt.ylabel('Internet Access %')\n",
    "plt.title('Does the Number of 311 Calls Affect the Internet Access in a Neighborhood?')"
   ]
  },
  {
   "cell_type": "markdown",
   "metadata": {},
   "source": [
    "no relationship jumps out visually"
   ]
  },
  {
   "cell_type": "code",
   "execution_count": null,
   "metadata": {
    "collapsed": true
   },
   "outputs": [],
   "source": []
  }
 ],
 "metadata": {
  "kernelspec": {
   "display_name": "PUI2016_Python2",
   "language": "python",
   "name": "pui2016_python2"
  },
  "language_info": {
   "codemirror_mode": {
    "name": "ipython",
    "version": 2
   },
   "file_extension": ".py",
   "mimetype": "text/x-python",
   "name": "python",
   "nbconvert_exporter": "python",
   "pygments_lexer": "ipython2",
   "version": "2.7.12"
  }
 },
 "nbformat": 4,
 "nbformat_minor": 0
}
