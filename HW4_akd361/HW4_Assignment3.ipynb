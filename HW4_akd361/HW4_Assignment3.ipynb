{
 "cells": [
  {
   "cell_type": "code",
   "execution_count": 13,
   "metadata": {
    "collapsed": false
   },
   "outputs": [
    {
     "name": "stdout",
     "output_type": "stream",
     "text": [
      "Populating the interactive namespace from numpy and matplotlib\n"
     ]
    }
   ],
   "source": [
    "import os\n",
    "import sys\n",
    "import numpy as np\n",
    "import pylab as pl\n",
    "import scipy as sp\n",
    "\n",
    "import json\n",
    "import os\n",
    "\n",
    "%pylab inline"
   ]
  },
  {
   "cell_type": "markdown",
   "metadata": {},
   "source": [
    "NULL HYPOTHESIS: the % of former prisoners employed after release is the same or lower for candidates who participated in the program as for the control group, significance level p=0.05\n",
    "\n",
    "H_0: P_0 - P_1 >= 0\n",
    "\n",
    "H_a: P_0 - P_1 < 0\n",
    "\n",
    "alpha = 0.05\n",
    "\n",
    "this is a TEST OF PROPORTIONS. we use the Binomial distribution since it is a yes/no (bernulli) test for each subject: the former inmate was or was not ever employed in a CEO transitional job (second row in the table above):\n",
    "\n",
    "P0 = 0.035, P1 = 0.701"
   ]
  },
  {
   "cell_type": "code",
   "execution_count": 3,
   "metadata": {
    "collapsed": false
   },
   "outputs": [
    {
     "name": "stdout",
     "output_type": "stream",
     "text": [
      "we must assess the statistical significance\n"
     ]
    }
   ],
   "source": [
    "alpha = 0.05\n",
    "P_0 = 3.5 * 0.01\n",
    "P_1 = 70.1 * 0.01\n",
    "\n",
    "if P_0 - P_1 >= 0:\n",
    "    print (\"the Null holds\")\n",
    "else:\n",
    "    print (\"we must assess the statistical significance\")\n",
    "    \n",
    "n_0 = 409\n",
    "n_1 = 564\n",
    "\n",
    "Nt_0 = P_0 * n_0\n",
    "Nt_1 = P_1 * n_1"
   ]
  },
  {
   "cell_type": "markdown",
   "metadata": {},
   "source": [
    "two samples, categorical data\n",
    "\n",
    "TWO OPTIONS: z test or chi-square test\n",
    "\n",
    "START WITH Z TEST\n",
    "\n",
    "the z test compares the standard deviation of the expected distribution and the observed result.\n",
    "It tells you literally how many standard deviations from the tail an observation is,\n",
    "under the _assumption of normality\n",
    "\n",
    "must define the sample standard deviation"
   ]
  },
  {
   "cell_type": "code",
   "execution_count": 5,
   "metadata": {
    "collapsed": false
   },
   "outputs": [
    {
     "name": "stdout",
     "output_type": "stream",
     "text": [
      "0.421047276465\n"
     ]
    }
   ],
   "source": [
    "#sample proportion\n",
    "sp = (P_0 * n_0 + P_1 * n_1) / (n_1 + n_0)\n",
    "print (sp)"
   ]
  },
  {
   "cell_type": "markdown",
   "metadata": {},
   "source": [
    "standard deviation of the sampling distribution the distribution is Binomial, the binomail stdev is\n",
    "\n",
    "$\\sqrt{\\frac{p(1 - p)}{n}}$\n",
    "for 2 samples this becomes\n",
    "$\\sqrt{ \\frac{ \\hat{p}(1 - \\hat{p})} {n0} + \\frac{ \\hat{p}(1 - \\hat{p})} {n1} }$\n",
    "$\\hat{p} =\\frac{p_0  n_0 + p_1  n_1}{n_0+n_1}$"
   ]
  },
  {
   "cell_type": "code",
   "execution_count": 6,
   "metadata": {
    "collapsed": true
   },
   "outputs": [],
   "source": [
    "p = lambda p0, p1, n0, n1: (p0 * n0 + p1 * n1) / (n0 + n1)\n",
    "\n",
    "#standard error\n",
    "se = lambda p, n0, n1: np.sqrt(p * (1 - p) * (1.0 / n0 + 1.0 / n1)) "
   ]
  },
  {
   "cell_type": "markdown",
   "metadata": {},
   "source": [
    "z score: how many standard deviation away from the population parameter is my statistic?\n",
    "$z=\\frac{P_1-P_0}{\\sigma}$"
   ]
  },
  {
   "cell_type": "code",
   "execution_count": 7,
   "metadata": {
    "collapsed": false
   },
   "outputs": [
    {
     "name": "stdout",
     "output_type": "stream",
     "text": [
      "20.7697865408\n"
     ]
    }
   ],
   "source": [
    "zscore = lambda p0, p1, s : (p0 - p1) / s\n",
    "z_2y = zscore(P_1, P_0, se(p(P_0, P_1, n_0, n_1), n_0, n_1))\n",
    "print (z_2y)"
   ]
  },
  {
   "cell_type": "code",
   "execution_count": 8,
   "metadata": {
    "collapsed": false
   },
   "outputs": [
    {
     "name": "stdout",
     "output_type": "stream",
     "text": [
      "is the p value 0.00 smaller than the critical value 0.05?\n",
      "YES!\n",
      "the Null hypothesis is rejected\n"
     ]
    }
   ],
   "source": [
    "p_2y = 1 - 0.9998\n",
    "\n",
    "\n",
    "def report_result(p,a):\n",
    "    print ('is the p value ' + \n",
    "           '{0:.2f} smaller than the critical value {1:.2f}?'.format(p,a))\n",
    "    if p < a:\n",
    "        print (\"YES!\")\n",
    "    else: \n",
    "        print (\"NO!\")\n",
    "    \n",
    "    print ('the Null hypothesis is {}'.format(\\\n",
    "                            'rejected' if p < a  else 'not rejected') )\n",
    "\n",
    "    \n",
    "report_result(p_2y, alpha)"
   ]
  },
  {
   "cell_type": "markdown",
   "metadata": {},
   "source": [
    "what if we used the values for where the former inmate was or was not \"Convicted of a felony\" (row 10) in the Recidivism (Years 1-3)?\n",
    "\n",
    "Null hypothesis: the % of former prisoners convicted of a felony within three years of release is the same or lower for candidates who participated in the program as for the control group, significance level p=0.05\n",
    "\n",
    "HH_0: PP_0 - PP_1 >= 0\n",
    "\n",
    "HH_a: P_0 - P_1 < 0\n",
    "\n",
    "PP_0 = 0.117, PP_1 = 0.10\n",
    "\n",
    "alpha = 0.05"
   ]
  },
  {
   "cell_type": "code",
   "execution_count": 29,
   "metadata": {
    "collapsed": false
   },
   "outputs": [
    {
     "name": "stdout",
     "output_type": "stream",
     "text": [
      "the Null holds\n"
     ]
    }
   ],
   "source": [
    "alpha = 0.05\n",
    "\n",
    "PP_0 = 0.117\n",
    "PP_1 = 0.10\n",
    "\n",
    "if PP_0 - PP_1 >= 0:\n",
    "    print (\"the Null holds\")\n",
    "else:\n",
    "    print (\"we must assess the statistical significance\")"
   ]
  },
  {
   "cell_type": "code",
   "execution_count": 30,
   "metadata": {
    "collapsed": false
   },
   "outputs": [
    {
     "name": "stdout",
     "output_type": "stream",
     "text": [
      "Power_divergenceResult(statistic=array([  0.76489741,  25.81071845]), pvalue=array([  3.81800222e-01,   3.76591342e-07]))\n"
     ]
    }
   ],
   "source": [
    "from scipy import stats\n",
    "# import scipy.stats as stats\n",
    "Ntot = 977\n",
    "\n",
    "nn_0 = 409\n",
    "nn_1 = 568\n",
    "\n",
    "sample_values = np.array([[PP_1 * nn_1, (1-PP_1) * nn_1], [PP_0 * nn_0, (1-PP_0) * nn_0]])\n",
    "print (stats.chisquare(sample_values))"
   ]
  },
  {
   "cell_type": "code",
   "execution_count": 31,
   "metadata": {
    "collapsed": true
   },
   "outputs": [],
   "source": [
    "# I couldn't import evalChisq so I tried this scipy stats command.\n",
    "# Output looks different from yours, not sure how to interpret."
   ]
  },
  {
   "cell_type": "code",
   "execution_count": 32,
   "metadata": {
    "collapsed": false
   },
   "outputs": [
    {
     "data": {
      "text/plain": [
       "Power_divergenceResult(statistic=0.00247008547008547, pvalue=nan)"
      ]
     },
     "execution_count": 32,
     "metadata": {},
     "output_type": "execute_result"
    }
   ],
   "source": [
    "# another try another way\n",
    "sp.stats.chisquare(PP_1, PP_0, ddof=1, axis=None)"
   ]
  },
  {
   "cell_type": "code",
   "execution_count": 33,
   "metadata": {
    "collapsed": true
   },
   "outputs": [],
   "source": [
    "# hm so the ChiSquare is 0.00247?\n",
    "# That could make sense since the observed frequency was so close to the expected frequency."
   ]
  },
  {
   "cell_type": "code",
   "execution_count": 35,
   "metadata": {
    "collapsed": false
   },
   "outputs": [
    {
     "name": "stdout",
     "output_type": "stream",
     "text": [
      "0.107116683726\n"
     ]
    }
   ],
   "source": [
    "#define the sample proportion first\n",
    "spsp = (PP_0 * nn_0 + PP_1 * nn_1) / (nn_1 + nn_0)\n",
    "print (spsp)"
   ]
  },
  {
   "cell_type": "markdown",
   "metadata": {},
   "source": [
    "Not sure the following step did what it was supposed to do.\n",
    "I don't understand the variables in this lambda function."
   ]
  },
  {
   "cell_type": "code",
   "execution_count": 36,
   "metadata": {
    "collapsed": true
   },
   "outputs": [],
   "source": [
    "pp = lambda p0, p1, n0, n1: (p0 * n0 + p1 * n1) / (n0 + n1)\n",
    "#standard error\n",
    "sese = lambda p, n0, n1: np.sqrt(p * (1 - p) * (1.0 / n0 + 1.0 / n1))"
   ]
  },
  {
   "cell_type": "code",
   "execution_count": 38,
   "metadata": {
    "collapsed": false
   },
   "outputs": [
    {
     "name": "stdout",
     "output_type": "stream",
     "text": [
      "-0.84764020522\n"
     ]
    }
   ],
   "source": [
    "zzscore = lambda p0, p1, s : (p0 - p1) / s\n",
    "zz_2y = zzscore(PP_1, PP_0, sese(pp(PP_0, PP_1, nn_0, nn_1), nn_0, nn_1))\n",
    "print (zz_2y)"
   ]
  },
  {
   "cell_type": "code",
   "execution_count": 39,
   "metadata": {
    "collapsed": true
   },
   "outputs": [],
   "source": [
    "# didn't know where to get free access to the Statistics In a Nutshell book\n",
    "# to learn how to create the contingency table. But the data would just be copy\n",
    "# and pasted from what I've been working with above."
   ]
  },
  {
   "cell_type": "code",
   "execution_count": null,
   "metadata": {
    "collapsed": true
   },
   "outputs": [],
   "source": []
  }
 ],
 "metadata": {
  "kernelspec": {
   "display_name": "Python [Root]",
   "language": "python",
   "name": "Python [Root]"
  },
  "language_info": {
   "codemirror_mode": {
    "name": "ipython",
    "version": 2
   },
   "file_extension": ".py",
   "mimetype": "text/x-python",
   "name": "python",
   "nbconvert_exporter": "python",
   "pygments_lexer": "ipython2",
   "version": "2.7.12"
  }
 },
 "nbformat": 4,
 "nbformat_minor": 0
}
